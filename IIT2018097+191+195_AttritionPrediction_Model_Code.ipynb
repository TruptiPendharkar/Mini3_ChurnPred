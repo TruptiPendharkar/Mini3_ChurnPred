{
  "nbformat": 4,
  "nbformat_minor": 0,
  "metadata": {
    "colab": {
      "name": "IIT2018097+191+195.ipynb",
      "provenance": []
    },
    "kernelspec": {
      "name": "python3",
      "display_name": "Python 3"
    },
    "language_info": {
      "name": "python"
    }
  },
  "cells": [
    {
      "cell_type": "code",
      "metadata": {
        "id": "j5CQJvZ6PXbq"
      },
      "source": [
        "import numpy as np\n",
        "import pandas as pd\n",
        "import matplotlib.pyplot as plt\n",
        "import joblib"
      ],
      "execution_count": 1,
      "outputs": []
    },
    {
      "cell_type": "code",
      "metadata": {
        "colab": {
          "base_uri": "https://localhost:8080/",
          "height": 205
        },
        "id": "ItA-bDybPo9k",
        "outputId": "3c42b7aa-87d6-4ef5-a252-33b30dea889d"
      },
      "source": [
        "df = pd.read_csv('Churn_Modelling.csv')\n",
        "df.head()"
      ],
      "execution_count": 2,
      "outputs": [
        {
          "output_type": "execute_result",
          "data": {
            "text/html": [
              "<div>\n",
              "<style scoped>\n",
              "    .dataframe tbody tr th:only-of-type {\n",
              "        vertical-align: middle;\n",
              "    }\n",
              "\n",
              "    .dataframe tbody tr th {\n",
              "        vertical-align: top;\n",
              "    }\n",
              "\n",
              "    .dataframe thead th {\n",
              "        text-align: right;\n",
              "    }\n",
              "</style>\n",
              "<table border=\"1\" class=\"dataframe\">\n",
              "  <thead>\n",
              "    <tr style=\"text-align: right;\">\n",
              "      <th></th>\n",
              "      <th>RowNumber</th>\n",
              "      <th>CustomerId</th>\n",
              "      <th>Surname</th>\n",
              "      <th>CreditScore</th>\n",
              "      <th>Geography</th>\n",
              "      <th>Gender</th>\n",
              "      <th>Age</th>\n",
              "      <th>Tenure</th>\n",
              "      <th>Balance</th>\n",
              "      <th>NumOfProducts</th>\n",
              "      <th>HasCrCard</th>\n",
              "      <th>IsActiveMember</th>\n",
              "      <th>EstimatedSalary</th>\n",
              "      <th>Exited</th>\n",
              "    </tr>\n",
              "  </thead>\n",
              "  <tbody>\n",
              "    <tr>\n",
              "      <th>0</th>\n",
              "      <td>1</td>\n",
              "      <td>15634602</td>\n",
              "      <td>Hargrave</td>\n",
              "      <td>619</td>\n",
              "      <td>France</td>\n",
              "      <td>Female</td>\n",
              "      <td>42</td>\n",
              "      <td>2</td>\n",
              "      <td>0.00</td>\n",
              "      <td>1</td>\n",
              "      <td>1</td>\n",
              "      <td>1</td>\n",
              "      <td>101348.88</td>\n",
              "      <td>1</td>\n",
              "    </tr>\n",
              "    <tr>\n",
              "      <th>1</th>\n",
              "      <td>2</td>\n",
              "      <td>15647311</td>\n",
              "      <td>Hill</td>\n",
              "      <td>608</td>\n",
              "      <td>Spain</td>\n",
              "      <td>Female</td>\n",
              "      <td>41</td>\n",
              "      <td>1</td>\n",
              "      <td>83807.86</td>\n",
              "      <td>1</td>\n",
              "      <td>0</td>\n",
              "      <td>1</td>\n",
              "      <td>112542.58</td>\n",
              "      <td>0</td>\n",
              "    </tr>\n",
              "    <tr>\n",
              "      <th>2</th>\n",
              "      <td>3</td>\n",
              "      <td>15619304</td>\n",
              "      <td>Onio</td>\n",
              "      <td>502</td>\n",
              "      <td>France</td>\n",
              "      <td>Female</td>\n",
              "      <td>42</td>\n",
              "      <td>8</td>\n",
              "      <td>159660.80</td>\n",
              "      <td>3</td>\n",
              "      <td>1</td>\n",
              "      <td>0</td>\n",
              "      <td>113931.57</td>\n",
              "      <td>1</td>\n",
              "    </tr>\n",
              "    <tr>\n",
              "      <th>3</th>\n",
              "      <td>4</td>\n",
              "      <td>15701354</td>\n",
              "      <td>Boni</td>\n",
              "      <td>699</td>\n",
              "      <td>France</td>\n",
              "      <td>Female</td>\n",
              "      <td>39</td>\n",
              "      <td>1</td>\n",
              "      <td>0.00</td>\n",
              "      <td>2</td>\n",
              "      <td>0</td>\n",
              "      <td>0</td>\n",
              "      <td>93826.63</td>\n",
              "      <td>0</td>\n",
              "    </tr>\n",
              "    <tr>\n",
              "      <th>4</th>\n",
              "      <td>5</td>\n",
              "      <td>15737888</td>\n",
              "      <td>Mitchell</td>\n",
              "      <td>850</td>\n",
              "      <td>Spain</td>\n",
              "      <td>Female</td>\n",
              "      <td>43</td>\n",
              "      <td>2</td>\n",
              "      <td>125510.82</td>\n",
              "      <td>1</td>\n",
              "      <td>1</td>\n",
              "      <td>1</td>\n",
              "      <td>79084.10</td>\n",
              "      <td>0</td>\n",
              "    </tr>\n",
              "  </tbody>\n",
              "</table>\n",
              "</div>"
            ],
            "text/plain": [
              "   RowNumber  CustomerId   Surname  ...  IsActiveMember EstimatedSalary Exited\n",
              "0          1    15634602  Hargrave  ...               1       101348.88      1\n",
              "1          2    15647311      Hill  ...               1       112542.58      0\n",
              "2          3    15619304      Onio  ...               0       113931.57      1\n",
              "3          4    15701354      Boni  ...               0        93826.63      0\n",
              "4          5    15737888  Mitchell  ...               1        79084.10      0\n",
              "\n",
              "[5 rows x 14 columns]"
            ]
          },
          "metadata": {},
          "execution_count": 2
        }
      ]
    },
    {
      "cell_type": "code",
      "metadata": {
        "colab": {
          "base_uri": "https://localhost:8080/",
          "height": 205
        },
        "id": "JcoqCwB9PpXF",
        "outputId": "c5b4ae40-2c8e-4dbf-96e2-02d6644ee071"
      },
      "source": [
        "df.drop(['RowNumber', 'CustomerId', 'Surname'], axis = 1, inplace = True)\n",
        "df.head()"
      ],
      "execution_count": 3,
      "outputs": [
        {
          "output_type": "execute_result",
          "data": {
            "text/html": [
              "<div>\n",
              "<style scoped>\n",
              "    .dataframe tbody tr th:only-of-type {\n",
              "        vertical-align: middle;\n",
              "    }\n",
              "\n",
              "    .dataframe tbody tr th {\n",
              "        vertical-align: top;\n",
              "    }\n",
              "\n",
              "    .dataframe thead th {\n",
              "        text-align: right;\n",
              "    }\n",
              "</style>\n",
              "<table border=\"1\" class=\"dataframe\">\n",
              "  <thead>\n",
              "    <tr style=\"text-align: right;\">\n",
              "      <th></th>\n",
              "      <th>CreditScore</th>\n",
              "      <th>Geography</th>\n",
              "      <th>Gender</th>\n",
              "      <th>Age</th>\n",
              "      <th>Tenure</th>\n",
              "      <th>Balance</th>\n",
              "      <th>NumOfProducts</th>\n",
              "      <th>HasCrCard</th>\n",
              "      <th>IsActiveMember</th>\n",
              "      <th>EstimatedSalary</th>\n",
              "      <th>Exited</th>\n",
              "    </tr>\n",
              "  </thead>\n",
              "  <tbody>\n",
              "    <tr>\n",
              "      <th>0</th>\n",
              "      <td>619</td>\n",
              "      <td>France</td>\n",
              "      <td>Female</td>\n",
              "      <td>42</td>\n",
              "      <td>2</td>\n",
              "      <td>0.00</td>\n",
              "      <td>1</td>\n",
              "      <td>1</td>\n",
              "      <td>1</td>\n",
              "      <td>101348.88</td>\n",
              "      <td>1</td>\n",
              "    </tr>\n",
              "    <tr>\n",
              "      <th>1</th>\n",
              "      <td>608</td>\n",
              "      <td>Spain</td>\n",
              "      <td>Female</td>\n",
              "      <td>41</td>\n",
              "      <td>1</td>\n",
              "      <td>83807.86</td>\n",
              "      <td>1</td>\n",
              "      <td>0</td>\n",
              "      <td>1</td>\n",
              "      <td>112542.58</td>\n",
              "      <td>0</td>\n",
              "    </tr>\n",
              "    <tr>\n",
              "      <th>2</th>\n",
              "      <td>502</td>\n",
              "      <td>France</td>\n",
              "      <td>Female</td>\n",
              "      <td>42</td>\n",
              "      <td>8</td>\n",
              "      <td>159660.80</td>\n",
              "      <td>3</td>\n",
              "      <td>1</td>\n",
              "      <td>0</td>\n",
              "      <td>113931.57</td>\n",
              "      <td>1</td>\n",
              "    </tr>\n",
              "    <tr>\n",
              "      <th>3</th>\n",
              "      <td>699</td>\n",
              "      <td>France</td>\n",
              "      <td>Female</td>\n",
              "      <td>39</td>\n",
              "      <td>1</td>\n",
              "      <td>0.00</td>\n",
              "      <td>2</td>\n",
              "      <td>0</td>\n",
              "      <td>0</td>\n",
              "      <td>93826.63</td>\n",
              "      <td>0</td>\n",
              "    </tr>\n",
              "    <tr>\n",
              "      <th>4</th>\n",
              "      <td>850</td>\n",
              "      <td>Spain</td>\n",
              "      <td>Female</td>\n",
              "      <td>43</td>\n",
              "      <td>2</td>\n",
              "      <td>125510.82</td>\n",
              "      <td>1</td>\n",
              "      <td>1</td>\n",
              "      <td>1</td>\n",
              "      <td>79084.10</td>\n",
              "      <td>0</td>\n",
              "    </tr>\n",
              "  </tbody>\n",
              "</table>\n",
              "</div>"
            ],
            "text/plain": [
              "   CreditScore Geography  Gender  ...  IsActiveMember  EstimatedSalary  Exited\n",
              "0          619    France  Female  ...               1        101348.88       1\n",
              "1          608     Spain  Female  ...               1        112542.58       0\n",
              "2          502    France  Female  ...               0        113931.57       1\n",
              "3          699    France  Female  ...               0         93826.63       0\n",
              "4          850     Spain  Female  ...               1         79084.10       0\n",
              "\n",
              "[5 rows x 11 columns]"
            ]
          },
          "metadata": {},
          "execution_count": 3
        }
      ]
    },
    {
      "cell_type": "code",
      "metadata": {
        "id": "JNvnZDJkP0rK"
      },
      "source": [
        "df['Gender'].replace({'Female':1, 'Male':0}, inplace = True)\n",
        "df['Geography'].replace({'France':0, 'Spain':1, 'Germany':2}, inplace = True)"
      ],
      "execution_count": 4,
      "outputs": []
    },
    {
      "cell_type": "code",
      "metadata": {
        "colab": {
          "base_uri": "https://localhost:8080/"
        },
        "id": "5Xdz7o64FsCh",
        "outputId": "139cd3a1-92a3-4052-c7cc-14cb8be3ff2a"
      },
      "source": [
        "df.dtypes"
      ],
      "execution_count": 5,
      "outputs": [
        {
          "output_type": "execute_result",
          "data": {
            "text/plain": [
              "CreditScore          int64\n",
              "Geography            int64\n",
              "Gender               int64\n",
              "Age                  int64\n",
              "Tenure               int64\n",
              "Balance            float64\n",
              "NumOfProducts        int64\n",
              "HasCrCard            int64\n",
              "IsActiveMember       int64\n",
              "EstimatedSalary    float64\n",
              "Exited               int64\n",
              "dtype: object"
            ]
          },
          "metadata": {},
          "execution_count": 5
        }
      ]
    },
    {
      "cell_type": "code",
      "metadata": {
        "id": "TPrfDax2PyPG"
      },
      "source": [
        "df1=df.copy()"
      ],
      "execution_count": 6,
      "outputs": []
    },
    {
      "cell_type": "code",
      "metadata": {
        "id": "2SOyQ-xmP6Zo"
      },
      "source": [
        "from sklearn import preprocessing\n",
        "scaler = preprocessing.MinMaxScaler()\n",
        "scaling_column = ['CreditScore', 'Age', 'Tenure', 'Balance', 'EstimatedSalary']\n",
        "# df[scaling_column] = scaler.fit_transform(df[scaling_column])\n",
        "# scaler=preprocessing.StandardScaler()\n",
        "# df[scaling_column] = scaler.fit_transform(df[scaling_column])\n",
        "# joblib.dump(scaler, \"std_scaler.pkl\")"
      ],
      "execution_count": 7,
      "outputs": []
    },
    {
      "cell_type": "code",
      "metadata": {
        "colab": {
          "base_uri": "https://localhost:8080/",
          "height": 423
        },
        "id": "4X7g-N_IaX2Q",
        "outputId": "2d5b53f7-d296-4f3e-9d42-1121c0a71f5e"
      },
      "source": [
        "df"
      ],
      "execution_count": 8,
      "outputs": [
        {
          "output_type": "execute_result",
          "data": {
            "text/html": [
              "<div>\n",
              "<style scoped>\n",
              "    .dataframe tbody tr th:only-of-type {\n",
              "        vertical-align: middle;\n",
              "    }\n",
              "\n",
              "    .dataframe tbody tr th {\n",
              "        vertical-align: top;\n",
              "    }\n",
              "\n",
              "    .dataframe thead th {\n",
              "        text-align: right;\n",
              "    }\n",
              "</style>\n",
              "<table border=\"1\" class=\"dataframe\">\n",
              "  <thead>\n",
              "    <tr style=\"text-align: right;\">\n",
              "      <th></th>\n",
              "      <th>CreditScore</th>\n",
              "      <th>Geography</th>\n",
              "      <th>Gender</th>\n",
              "      <th>Age</th>\n",
              "      <th>Tenure</th>\n",
              "      <th>Balance</th>\n",
              "      <th>NumOfProducts</th>\n",
              "      <th>HasCrCard</th>\n",
              "      <th>IsActiveMember</th>\n",
              "      <th>EstimatedSalary</th>\n",
              "      <th>Exited</th>\n",
              "    </tr>\n",
              "  </thead>\n",
              "  <tbody>\n",
              "    <tr>\n",
              "      <th>0</th>\n",
              "      <td>619</td>\n",
              "      <td>0</td>\n",
              "      <td>1</td>\n",
              "      <td>42</td>\n",
              "      <td>2</td>\n",
              "      <td>0.00</td>\n",
              "      <td>1</td>\n",
              "      <td>1</td>\n",
              "      <td>1</td>\n",
              "      <td>101348.88</td>\n",
              "      <td>1</td>\n",
              "    </tr>\n",
              "    <tr>\n",
              "      <th>1</th>\n",
              "      <td>608</td>\n",
              "      <td>1</td>\n",
              "      <td>1</td>\n",
              "      <td>41</td>\n",
              "      <td>1</td>\n",
              "      <td>83807.86</td>\n",
              "      <td>1</td>\n",
              "      <td>0</td>\n",
              "      <td>1</td>\n",
              "      <td>112542.58</td>\n",
              "      <td>0</td>\n",
              "    </tr>\n",
              "    <tr>\n",
              "      <th>2</th>\n",
              "      <td>502</td>\n",
              "      <td>0</td>\n",
              "      <td>1</td>\n",
              "      <td>42</td>\n",
              "      <td>8</td>\n",
              "      <td>159660.80</td>\n",
              "      <td>3</td>\n",
              "      <td>1</td>\n",
              "      <td>0</td>\n",
              "      <td>113931.57</td>\n",
              "      <td>1</td>\n",
              "    </tr>\n",
              "    <tr>\n",
              "      <th>3</th>\n",
              "      <td>699</td>\n",
              "      <td>0</td>\n",
              "      <td>1</td>\n",
              "      <td>39</td>\n",
              "      <td>1</td>\n",
              "      <td>0.00</td>\n",
              "      <td>2</td>\n",
              "      <td>0</td>\n",
              "      <td>0</td>\n",
              "      <td>93826.63</td>\n",
              "      <td>0</td>\n",
              "    </tr>\n",
              "    <tr>\n",
              "      <th>4</th>\n",
              "      <td>850</td>\n",
              "      <td>1</td>\n",
              "      <td>1</td>\n",
              "      <td>43</td>\n",
              "      <td>2</td>\n",
              "      <td>125510.82</td>\n",
              "      <td>1</td>\n",
              "      <td>1</td>\n",
              "      <td>1</td>\n",
              "      <td>79084.10</td>\n",
              "      <td>0</td>\n",
              "    </tr>\n",
              "    <tr>\n",
              "      <th>...</th>\n",
              "      <td>...</td>\n",
              "      <td>...</td>\n",
              "      <td>...</td>\n",
              "      <td>...</td>\n",
              "      <td>...</td>\n",
              "      <td>...</td>\n",
              "      <td>...</td>\n",
              "      <td>...</td>\n",
              "      <td>...</td>\n",
              "      <td>...</td>\n",
              "      <td>...</td>\n",
              "    </tr>\n",
              "    <tr>\n",
              "      <th>9995</th>\n",
              "      <td>771</td>\n",
              "      <td>0</td>\n",
              "      <td>0</td>\n",
              "      <td>39</td>\n",
              "      <td>5</td>\n",
              "      <td>0.00</td>\n",
              "      <td>2</td>\n",
              "      <td>1</td>\n",
              "      <td>0</td>\n",
              "      <td>96270.64</td>\n",
              "      <td>0</td>\n",
              "    </tr>\n",
              "    <tr>\n",
              "      <th>9996</th>\n",
              "      <td>516</td>\n",
              "      <td>0</td>\n",
              "      <td>0</td>\n",
              "      <td>35</td>\n",
              "      <td>10</td>\n",
              "      <td>57369.61</td>\n",
              "      <td>1</td>\n",
              "      <td>1</td>\n",
              "      <td>1</td>\n",
              "      <td>101699.77</td>\n",
              "      <td>0</td>\n",
              "    </tr>\n",
              "    <tr>\n",
              "      <th>9997</th>\n",
              "      <td>709</td>\n",
              "      <td>0</td>\n",
              "      <td>1</td>\n",
              "      <td>36</td>\n",
              "      <td>7</td>\n",
              "      <td>0.00</td>\n",
              "      <td>1</td>\n",
              "      <td>0</td>\n",
              "      <td>1</td>\n",
              "      <td>42085.58</td>\n",
              "      <td>1</td>\n",
              "    </tr>\n",
              "    <tr>\n",
              "      <th>9998</th>\n",
              "      <td>772</td>\n",
              "      <td>2</td>\n",
              "      <td>0</td>\n",
              "      <td>42</td>\n",
              "      <td>3</td>\n",
              "      <td>75075.31</td>\n",
              "      <td>2</td>\n",
              "      <td>1</td>\n",
              "      <td>0</td>\n",
              "      <td>92888.52</td>\n",
              "      <td>1</td>\n",
              "    </tr>\n",
              "    <tr>\n",
              "      <th>9999</th>\n",
              "      <td>792</td>\n",
              "      <td>0</td>\n",
              "      <td>1</td>\n",
              "      <td>28</td>\n",
              "      <td>4</td>\n",
              "      <td>130142.79</td>\n",
              "      <td>1</td>\n",
              "      <td>1</td>\n",
              "      <td>0</td>\n",
              "      <td>38190.78</td>\n",
              "      <td>0</td>\n",
              "    </tr>\n",
              "  </tbody>\n",
              "</table>\n",
              "<p>10000 rows × 11 columns</p>\n",
              "</div>"
            ],
            "text/plain": [
              "      CreditScore  Geography  Gender  ...  IsActiveMember  EstimatedSalary  Exited\n",
              "0             619          0       1  ...               1        101348.88       1\n",
              "1             608          1       1  ...               1        112542.58       0\n",
              "2             502          0       1  ...               0        113931.57       1\n",
              "3             699          0       1  ...               0         93826.63       0\n",
              "4             850          1       1  ...               1         79084.10       0\n",
              "...           ...        ...     ...  ...             ...              ...     ...\n",
              "9995          771          0       0  ...               0         96270.64       0\n",
              "9996          516          0       0  ...               1        101699.77       0\n",
              "9997          709          0       1  ...               1         42085.58       1\n",
              "9998          772          2       0  ...               0         92888.52       1\n",
              "9999          792          0       1  ...               0         38190.78       0\n",
              "\n",
              "[10000 rows x 11 columns]"
            ]
          },
          "metadata": {},
          "execution_count": 8
        }
      ]
    },
    {
      "cell_type": "code",
      "metadata": {
        "id": "dJJ-0BWRQGX3"
      },
      "source": [
        "import seaborn as sns\n",
        "import itertools\n",
        "from sklearn import model_selection\n",
        "from sklearn.model_selection import train_test_split, GridSearchCV\n",
        "from sklearn.preprocessing import StandardScaler\n",
        "from sklearn.pipeline import Pipeline\n",
        "from sklearn import metrics"
      ],
      "execution_count": 9,
      "outputs": []
    },
    {
      "cell_type": "code",
      "metadata": {
        "id": "THT6w8zWFVsa"
      },
      "source": [
        "import six\n",
        "import sys\n",
        "sys.modules['sklearn.externals.six'] = six\n",
        "# import mlrose"
      ],
      "execution_count": 10,
      "outputs": []
    },
    {
      "cell_type": "markdown",
      "metadata": {
        "id": "B_L0FHg-RPW0"
      },
      "source": [
        "**Classifiers**"
      ]
    },
    {
      "cell_type": "code",
      "metadata": {
        "id": "089cXIJnRJ-m"
      },
      "source": [
        "from sklearn.svm import NuSVC, SVC\n",
        "from sklearn.neural_network import MLPClassifier\n",
        "from sklearn.ensemble import RandomForestClassifier\n",
        "from mlxtend.classifier import StackingCVClassifier "
      ],
      "execution_count": 11,
      "outputs": []
    },
    {
      "cell_type": "code",
      "metadata": {
        "id": "kqes7pwDRS7g"
      },
      "source": [
        "import warnings\n",
        "warnings.simplefilter('ignore')\n",
        "from xgboost import XGBClassifier, plot_importance"
      ],
      "execution_count": 12,
      "outputs": []
    },
    {
      "cell_type": "code",
      "metadata": {
        "id": "NxNSWHl2ErN3"
      },
      "source": [
        "from imblearn.over_sampling import SMOTE"
      ],
      "execution_count": 13,
      "outputs": []
    },
    {
      "cell_type": "code",
      "metadata": {
        "id": "M52SCZFdErOu",
        "colab": {
          "base_uri": "https://localhost:8080/",
          "height": 423
        },
        "outputId": "4f030725-fb93-4001-cc35-cd5342ecbf92"
      },
      "source": [
        "df"
      ],
      "execution_count": 14,
      "outputs": [
        {
          "output_type": "execute_result",
          "data": {
            "text/html": [
              "<div>\n",
              "<style scoped>\n",
              "    .dataframe tbody tr th:only-of-type {\n",
              "        vertical-align: middle;\n",
              "    }\n",
              "\n",
              "    .dataframe tbody tr th {\n",
              "        vertical-align: top;\n",
              "    }\n",
              "\n",
              "    .dataframe thead th {\n",
              "        text-align: right;\n",
              "    }\n",
              "</style>\n",
              "<table border=\"1\" class=\"dataframe\">\n",
              "  <thead>\n",
              "    <tr style=\"text-align: right;\">\n",
              "      <th></th>\n",
              "      <th>CreditScore</th>\n",
              "      <th>Geography</th>\n",
              "      <th>Gender</th>\n",
              "      <th>Age</th>\n",
              "      <th>Tenure</th>\n",
              "      <th>Balance</th>\n",
              "      <th>NumOfProducts</th>\n",
              "      <th>HasCrCard</th>\n",
              "      <th>IsActiveMember</th>\n",
              "      <th>EstimatedSalary</th>\n",
              "      <th>Exited</th>\n",
              "    </tr>\n",
              "  </thead>\n",
              "  <tbody>\n",
              "    <tr>\n",
              "      <th>0</th>\n",
              "      <td>619</td>\n",
              "      <td>0</td>\n",
              "      <td>1</td>\n",
              "      <td>42</td>\n",
              "      <td>2</td>\n",
              "      <td>0.00</td>\n",
              "      <td>1</td>\n",
              "      <td>1</td>\n",
              "      <td>1</td>\n",
              "      <td>101348.88</td>\n",
              "      <td>1</td>\n",
              "    </tr>\n",
              "    <tr>\n",
              "      <th>1</th>\n",
              "      <td>608</td>\n",
              "      <td>1</td>\n",
              "      <td>1</td>\n",
              "      <td>41</td>\n",
              "      <td>1</td>\n",
              "      <td>83807.86</td>\n",
              "      <td>1</td>\n",
              "      <td>0</td>\n",
              "      <td>1</td>\n",
              "      <td>112542.58</td>\n",
              "      <td>0</td>\n",
              "    </tr>\n",
              "    <tr>\n",
              "      <th>2</th>\n",
              "      <td>502</td>\n",
              "      <td>0</td>\n",
              "      <td>1</td>\n",
              "      <td>42</td>\n",
              "      <td>8</td>\n",
              "      <td>159660.80</td>\n",
              "      <td>3</td>\n",
              "      <td>1</td>\n",
              "      <td>0</td>\n",
              "      <td>113931.57</td>\n",
              "      <td>1</td>\n",
              "    </tr>\n",
              "    <tr>\n",
              "      <th>3</th>\n",
              "      <td>699</td>\n",
              "      <td>0</td>\n",
              "      <td>1</td>\n",
              "      <td>39</td>\n",
              "      <td>1</td>\n",
              "      <td>0.00</td>\n",
              "      <td>2</td>\n",
              "      <td>0</td>\n",
              "      <td>0</td>\n",
              "      <td>93826.63</td>\n",
              "      <td>0</td>\n",
              "    </tr>\n",
              "    <tr>\n",
              "      <th>4</th>\n",
              "      <td>850</td>\n",
              "      <td>1</td>\n",
              "      <td>1</td>\n",
              "      <td>43</td>\n",
              "      <td>2</td>\n",
              "      <td>125510.82</td>\n",
              "      <td>1</td>\n",
              "      <td>1</td>\n",
              "      <td>1</td>\n",
              "      <td>79084.10</td>\n",
              "      <td>0</td>\n",
              "    </tr>\n",
              "    <tr>\n",
              "      <th>...</th>\n",
              "      <td>...</td>\n",
              "      <td>...</td>\n",
              "      <td>...</td>\n",
              "      <td>...</td>\n",
              "      <td>...</td>\n",
              "      <td>...</td>\n",
              "      <td>...</td>\n",
              "      <td>...</td>\n",
              "      <td>...</td>\n",
              "      <td>...</td>\n",
              "      <td>...</td>\n",
              "    </tr>\n",
              "    <tr>\n",
              "      <th>9995</th>\n",
              "      <td>771</td>\n",
              "      <td>0</td>\n",
              "      <td>0</td>\n",
              "      <td>39</td>\n",
              "      <td>5</td>\n",
              "      <td>0.00</td>\n",
              "      <td>2</td>\n",
              "      <td>1</td>\n",
              "      <td>0</td>\n",
              "      <td>96270.64</td>\n",
              "      <td>0</td>\n",
              "    </tr>\n",
              "    <tr>\n",
              "      <th>9996</th>\n",
              "      <td>516</td>\n",
              "      <td>0</td>\n",
              "      <td>0</td>\n",
              "      <td>35</td>\n",
              "      <td>10</td>\n",
              "      <td>57369.61</td>\n",
              "      <td>1</td>\n",
              "      <td>1</td>\n",
              "      <td>1</td>\n",
              "      <td>101699.77</td>\n",
              "      <td>0</td>\n",
              "    </tr>\n",
              "    <tr>\n",
              "      <th>9997</th>\n",
              "      <td>709</td>\n",
              "      <td>0</td>\n",
              "      <td>1</td>\n",
              "      <td>36</td>\n",
              "      <td>7</td>\n",
              "      <td>0.00</td>\n",
              "      <td>1</td>\n",
              "      <td>0</td>\n",
              "      <td>1</td>\n",
              "      <td>42085.58</td>\n",
              "      <td>1</td>\n",
              "    </tr>\n",
              "    <tr>\n",
              "      <th>9998</th>\n",
              "      <td>772</td>\n",
              "      <td>2</td>\n",
              "      <td>0</td>\n",
              "      <td>42</td>\n",
              "      <td>3</td>\n",
              "      <td>75075.31</td>\n",
              "      <td>2</td>\n",
              "      <td>1</td>\n",
              "      <td>0</td>\n",
              "      <td>92888.52</td>\n",
              "      <td>1</td>\n",
              "    </tr>\n",
              "    <tr>\n",
              "      <th>9999</th>\n",
              "      <td>792</td>\n",
              "      <td>0</td>\n",
              "      <td>1</td>\n",
              "      <td>28</td>\n",
              "      <td>4</td>\n",
              "      <td>130142.79</td>\n",
              "      <td>1</td>\n",
              "      <td>1</td>\n",
              "      <td>0</td>\n",
              "      <td>38190.78</td>\n",
              "      <td>0</td>\n",
              "    </tr>\n",
              "  </tbody>\n",
              "</table>\n",
              "<p>10000 rows × 11 columns</p>\n",
              "</div>"
            ],
            "text/plain": [
              "      CreditScore  Geography  Gender  ...  IsActiveMember  EstimatedSalary  Exited\n",
              "0             619          0       1  ...               1        101348.88       1\n",
              "1             608          1       1  ...               1        112542.58       0\n",
              "2             502          0       1  ...               0        113931.57       1\n",
              "3             699          0       1  ...               0         93826.63       0\n",
              "4             850          1       1  ...               1         79084.10       0\n",
              "...           ...        ...     ...  ...             ...              ...     ...\n",
              "9995          771          0       0  ...               0         96270.64       0\n",
              "9996          516          0       0  ...               1        101699.77       0\n",
              "9997          709          0       1  ...               1         42085.58       1\n",
              "9998          772          2       0  ...               0         92888.52       1\n",
              "9999          792          0       1  ...               0         38190.78       0\n",
              "\n",
              "[10000 rows x 11 columns]"
            ]
          },
          "metadata": {},
          "execution_count": 14
        }
      ]
    },
    {
      "cell_type": "code",
      "metadata": {
        "id": "ZVMSdvO1RcjA"
      },
      "source": [
        "X=df.drop(\"Exited\",axis=1).to_numpy()\n",
        "y=df['Exited'].to_numpy()"
      ],
      "execution_count": 15,
      "outputs": []
    },
    {
      "cell_type": "code",
      "metadata": {
        "id": "YeFtf24jEwe-"
      },
      "source": [
        "smote = SMOTE(sampling_strategy='minority')\n",
        "X_data, y_data = smote.fit_resample(X, y)"
      ],
      "execution_count": 16,
      "outputs": []
    },
    {
      "cell_type": "code",
      "metadata": {
        "colab": {
          "base_uri": "https://localhost:8080/"
        },
        "id": "-0LXfW5oZ5PX",
        "outputId": "764abb7d-b7d2-4b4b-c278-128382fd4815"
      },
      "source": [
        "X_data.shape"
      ],
      "execution_count": 17,
      "outputs": [
        {
          "output_type": "execute_result",
          "data": {
            "text/plain": [
              "(15926, 10)"
            ]
          },
          "metadata": {},
          "execution_count": 17
        }
      ]
    },
    {
      "cell_type": "code",
      "metadata": {
        "id": "UBBDrlo4TSG2"
      },
      "source": [
        "df2=pd.DataFrame(X_data,columns=[\"CreditScore\",\"Geography\",\"Gender\",\"Age\",\"Tenure\",\"Balance\",\"NumOfProducts\",\"HasCrCard\",\"IsActiveMember\",\"EstimatedSalary\"])"
      ],
      "execution_count": 18,
      "outputs": []
    },
    {
      "cell_type": "code",
      "metadata": {
        "colab": {
          "base_uri": "https://localhost:8080/"
        },
        "id": "MQQwP37GVR7A",
        "outputId": "d65ca41a-6905-486f-8f53-fcc03c04473a"
      },
      "source": [
        "df2[\"Geography\"].value_counts()"
      ],
      "execution_count": 19,
      "outputs": [
        {
          "output_type": "execute_result",
          "data": {
            "text/plain": [
              "0.000000    6197\n",
              "2.000000    3987\n",
              "1.000000    2773\n",
              "0.971529       1\n",
              "0.670113       1\n",
              "            ... \n",
              "0.148731       1\n",
              "1.081209       1\n",
              "1.901221       1\n",
              "0.740303       1\n",
              "0.604793       1\n",
              "Name: Geography, Length: 2972, dtype: int64"
            ]
          },
          "metadata": {},
          "execution_count": 19
        }
      ]
    },
    {
      "cell_type": "code",
      "metadata": {
        "id": "fwwkjyPmWSdM"
      },
      "source": [
        "df2.Geography=df2.Geography.round(0)"
      ],
      "execution_count": 20,
      "outputs": []
    },
    {
      "cell_type": "code",
      "metadata": {
        "colab": {
          "base_uri": "https://localhost:8080/"
        },
        "id": "xYaSiSX9WSeP",
        "outputId": "567fb3e3-ba5b-4707-9357-2af0c660538c"
      },
      "source": [
        "df2[\"Geography\"].value_counts()"
      ],
      "execution_count": 21,
      "outputs": [
        {
          "output_type": "execute_result",
          "data": {
            "text/plain": [
              "0.0    7066\n",
              "2.0    4605\n",
              "1.0    4255\n",
              "Name: Geography, dtype: int64"
            ]
          },
          "metadata": {},
          "execution_count": 21
        }
      ]
    },
    {
      "cell_type": "code",
      "metadata": {
        "colab": {
          "base_uri": "https://localhost:8080/"
        },
        "id": "REihF6YGXrSz",
        "outputId": "3f0c2860-c513-4cdc-d7f7-393da4b214ac"
      },
      "source": [
        "df2[\"Gender\"].value_counts()"
      ],
      "execution_count": 22,
      "outputs": [
        {
          "output_type": "execute_result",
          "data": {
            "text/plain": [
              "0.000000    6613\n",
              "1.000000    6425\n",
              "0.482629       1\n",
              "0.145213       1\n",
              "0.085018       1\n",
              "            ... \n",
              "0.353810       1\n",
              "0.911365       1\n",
              "0.534461       1\n",
              "0.137778       1\n",
              "0.706225       1\n",
              "Name: Gender, Length: 2890, dtype: int64"
            ]
          },
          "metadata": {},
          "execution_count": 22
        }
      ]
    },
    {
      "cell_type": "code",
      "metadata": {
        "id": "SXSdj4eSXk_L"
      },
      "source": [
        "df2.Gender=df2.Gender.round(0)"
      ],
      "execution_count": 23,
      "outputs": []
    },
    {
      "cell_type": "code",
      "metadata": {
        "colab": {
          "base_uri": "https://localhost:8080/"
        },
        "id": "h7eFogfjXlAR",
        "outputId": "4c8e9dbe-96be-4ccf-9d67-3a5f64e857ff"
      },
      "source": [
        "df2[\"Tenure\"].value_counts()"
      ],
      "execution_count": 24,
      "outputs": [
        {
          "output_type": "execute_result",
          "data": {
            "text/plain": [
              "1.000000    1128\n",
              "2.000000    1111\n",
              "8.000000    1094\n",
              "5.000000    1087\n",
              "3.000000    1065\n",
              "            ... \n",
              "3.238960       1\n",
              "2.601867       1\n",
              "3.616263       1\n",
              "8.575005       1\n",
              "7.005212       1\n",
              "Name: Tenure, Length: 5339, dtype: int64"
            ]
          },
          "metadata": {},
          "execution_count": 24
        }
      ]
    },
    {
      "cell_type": "code",
      "metadata": {
        "id": "Jkwe1ZSwXlE8"
      },
      "source": [
        "df2.Tenure=df2.Tenure.round(0)"
      ],
      "execution_count": 25,
      "outputs": []
    },
    {
      "cell_type": "code",
      "metadata": {
        "colab": {
          "base_uri": "https://localhost:8080/"
        },
        "id": "Wv3A2nR7ZM9w",
        "outputId": "52a249b3-bd5f-4725-9a88-e5478cb0f147"
      },
      "source": [
        "df2[\"Tenure\"].value_counts()"
      ],
      "execution_count": 26,
      "outputs": [
        {
          "output_type": "execute_result",
          "data": {
            "text/plain": [
              "4.0     1831\n",
              "5.0     1818\n",
              "3.0     1713\n",
              "6.0     1701\n",
              "7.0     1701\n",
              "8.0     1620\n",
              "2.0     1615\n",
              "1.0     1450\n",
              "9.0     1348\n",
              "10.0     601\n",
              "0.0      528\n",
              "Name: Tenure, dtype: int64"
            ]
          },
          "metadata": {},
          "execution_count": 26
        }
      ]
    },
    {
      "cell_type": "code",
      "metadata": {
        "colab": {
          "base_uri": "https://localhost:8080/"
        },
        "id": "j3D7chDYXlG1",
        "outputId": "2c33bcc5-ba65-4d8e-8140-11c4a3f49a3b"
      },
      "source": [
        "df2[\"NumOfProducts\"].value_counts()"
      ],
      "execution_count": 27,
      "outputs": [
        {
          "output_type": "execute_result",
          "data": {
            "text/plain": [
              "1.000000    7908\n",
              "2.000000    4794\n",
              "3.000000     350\n",
              "4.000000      65\n",
              "1.315400       1\n",
              "            ... \n",
              "1.168377       1\n",
              "2.197415       1\n",
              "2.877235       1\n",
              "1.349540       1\n",
              "1.329261       1\n",
              "Name: NumOfProducts, Length: 2813, dtype: int64"
            ]
          },
          "metadata": {},
          "execution_count": 27
        }
      ]
    },
    {
      "cell_type": "code",
      "metadata": {
        "id": "h9xkh856XlKl"
      },
      "source": [
        "df2.NumOfProducts=df2.NumOfProducts.round(0)"
      ],
      "execution_count": 28,
      "outputs": []
    },
    {
      "cell_type": "code",
      "metadata": {
        "colab": {
          "base_uri": "https://localhost:8080/"
        },
        "id": "ddEMTwTcZijf",
        "outputId": "5637b0a1-6761-4ca8-b1fd-0f6e1f99f132"
      },
      "source": [
        "df2[\"NumOfProducts\"].value_counts()"
      ],
      "execution_count": 29,
      "outputs": [
        {
          "output_type": "execute_result",
          "data": {
            "text/plain": [
              "1.0    8827\n",
              "2.0    6153\n",
              "3.0     820\n",
              "4.0     126\n",
              "Name: NumOfProducts, dtype: int64"
            ]
          },
          "metadata": {},
          "execution_count": 29
        }
      ]
    },
    {
      "cell_type": "code",
      "metadata": {
        "colab": {
          "base_uri": "https://localhost:8080/"
        },
        "id": "nD00UbUvZiko",
        "outputId": "035b7c0c-b019-4fdb-e3a1-0b4af9fa2c57"
      },
      "source": [
        "df2[\"HasCrCard\"].value_counts()"
      ],
      "execution_count": 30,
      "outputs": [
        {
          "output_type": "execute_result",
          "data": {
            "text/plain": [
              "1.000000    9967\n",
              "0.000000    3484\n",
              "0.691761       1\n",
              "0.724696       1\n",
              "0.564959       1\n",
              "            ... \n",
              "0.598720       1\n",
              "0.125532       1\n",
              "0.974176       1\n",
              "0.944897       1\n",
              "0.452268       1\n",
              "Name: HasCrCard, Length: 2477, dtype: int64"
            ]
          },
          "metadata": {},
          "execution_count": 30
        }
      ]
    },
    {
      "cell_type": "code",
      "metadata": {
        "id": "QCsbqI-AZino"
      },
      "source": [
        "df2.HasCrCard=df2.HasCrCard.round(0)"
      ],
      "execution_count": 31,
      "outputs": []
    },
    {
      "cell_type": "code",
      "metadata": {
        "colab": {
          "base_uri": "https://localhost:8080/"
        },
        "id": "rdxi_ouYZioy",
        "outputId": "b34924b7-3083-4023-e1c5-41e9667d59e4"
      },
      "source": [
        "df2[\"HasCrCard\"].value_counts()"
      ],
      "execution_count": 32,
      "outputs": [
        {
          "output_type": "execute_result",
          "data": {
            "text/plain": [
              "1.0    11198\n",
              "0.0     4728\n",
              "Name: HasCrCard, dtype: int64"
            ]
          },
          "metadata": {},
          "execution_count": 32
        }
      ]
    },
    {
      "cell_type": "code",
      "metadata": {
        "colab": {
          "base_uri": "https://localhost:8080/"
        },
        "id": "jKYP5AUJaBJJ",
        "outputId": "ea7ba07a-2959-43fb-f451-c6a89d2502b8"
      },
      "source": [
        "df2[\"IsActiveMember\"].value_counts()"
      ],
      "execution_count": 88,
      "outputs": [
        {
          "output_type": "execute_result",
          "data": {
            "text/plain": [
              "0.000000    7332\n",
              "1.000000    5906\n",
              "0.722371       1\n",
              "0.990034       1\n",
              "0.240425       1\n",
              "            ... \n",
              "0.682088       1\n",
              "0.474070       1\n",
              "0.508335       1\n",
              "0.155278       1\n",
              "0.788728       1\n",
              "Name: IsActiveMember, Length: 2690, dtype: int64"
            ]
          },
          "metadata": {},
          "execution_count": 88
        }
      ]
    },
    {
      "cell_type": "code",
      "metadata": {
        "id": "gPKXoNp-aBKZ"
      },
      "source": [
        "df2.IsActiveMember=df2.IsActiveMember.round(0)"
      ],
      "execution_count": 33,
      "outputs": []
    },
    {
      "cell_type": "code",
      "metadata": {
        "colab": {
          "base_uri": "https://localhost:8080/"
        },
        "id": "vgvge8tWaBPR",
        "outputId": "ac197590-3fdf-40fa-de66-7d5f40a47323"
      },
      "source": [
        "df2[\"IsActiveMember\"].value_counts()"
      ],
      "execution_count": 34,
      "outputs": [
        {
          "output_type": "execute_result",
          "data": {
            "text/plain": [
              "0.0    8659\n",
              "1.0    7267\n",
              "Name: IsActiveMember, dtype: int64"
            ]
          },
          "metadata": {},
          "execution_count": 34
        }
      ]
    },
    {
      "cell_type": "code",
      "metadata": {
        "colab": {
          "base_uri": "https://localhost:8080/",
          "height": 423
        },
        "id": "hZmM-bckaxva",
        "outputId": "11476c3c-23f1-4c12-a6de-b4a438e0d88d"
      },
      "source": [
        "df2"
      ],
      "execution_count": 35,
      "outputs": [
        {
          "output_type": "execute_result",
          "data": {
            "text/html": [
              "<div>\n",
              "<style scoped>\n",
              "    .dataframe tbody tr th:only-of-type {\n",
              "        vertical-align: middle;\n",
              "    }\n",
              "\n",
              "    .dataframe tbody tr th {\n",
              "        vertical-align: top;\n",
              "    }\n",
              "\n",
              "    .dataframe thead th {\n",
              "        text-align: right;\n",
              "    }\n",
              "</style>\n",
              "<table border=\"1\" class=\"dataframe\">\n",
              "  <thead>\n",
              "    <tr style=\"text-align: right;\">\n",
              "      <th></th>\n",
              "      <th>CreditScore</th>\n",
              "      <th>Geography</th>\n",
              "      <th>Gender</th>\n",
              "      <th>Age</th>\n",
              "      <th>Tenure</th>\n",
              "      <th>Balance</th>\n",
              "      <th>NumOfProducts</th>\n",
              "      <th>HasCrCard</th>\n",
              "      <th>IsActiveMember</th>\n",
              "      <th>EstimatedSalary</th>\n",
              "    </tr>\n",
              "  </thead>\n",
              "  <tbody>\n",
              "    <tr>\n",
              "      <th>0</th>\n",
              "      <td>619.000000</td>\n",
              "      <td>0.0</td>\n",
              "      <td>1.0</td>\n",
              "      <td>42.000000</td>\n",
              "      <td>2.0</td>\n",
              "      <td>0.000000</td>\n",
              "      <td>1.0</td>\n",
              "      <td>1.0</td>\n",
              "      <td>1.0</td>\n",
              "      <td>101348.880000</td>\n",
              "    </tr>\n",
              "    <tr>\n",
              "      <th>1</th>\n",
              "      <td>608.000000</td>\n",
              "      <td>1.0</td>\n",
              "      <td>1.0</td>\n",
              "      <td>41.000000</td>\n",
              "      <td>1.0</td>\n",
              "      <td>83807.860000</td>\n",
              "      <td>1.0</td>\n",
              "      <td>0.0</td>\n",
              "      <td>1.0</td>\n",
              "      <td>112542.580000</td>\n",
              "    </tr>\n",
              "    <tr>\n",
              "      <th>2</th>\n",
              "      <td>502.000000</td>\n",
              "      <td>0.0</td>\n",
              "      <td>1.0</td>\n",
              "      <td>42.000000</td>\n",
              "      <td>8.0</td>\n",
              "      <td>159660.800000</td>\n",
              "      <td>3.0</td>\n",
              "      <td>1.0</td>\n",
              "      <td>0.0</td>\n",
              "      <td>113931.570000</td>\n",
              "    </tr>\n",
              "    <tr>\n",
              "      <th>3</th>\n",
              "      <td>699.000000</td>\n",
              "      <td>0.0</td>\n",
              "      <td>1.0</td>\n",
              "      <td>39.000000</td>\n",
              "      <td>1.0</td>\n",
              "      <td>0.000000</td>\n",
              "      <td>2.0</td>\n",
              "      <td>0.0</td>\n",
              "      <td>0.0</td>\n",
              "      <td>93826.630000</td>\n",
              "    </tr>\n",
              "    <tr>\n",
              "      <th>4</th>\n",
              "      <td>850.000000</td>\n",
              "      <td>1.0</td>\n",
              "      <td>1.0</td>\n",
              "      <td>43.000000</td>\n",
              "      <td>2.0</td>\n",
              "      <td>125510.820000</td>\n",
              "      <td>1.0</td>\n",
              "      <td>1.0</td>\n",
              "      <td>1.0</td>\n",
              "      <td>79084.100000</td>\n",
              "    </tr>\n",
              "    <tr>\n",
              "      <th>...</th>\n",
              "      <td>...</td>\n",
              "      <td>...</td>\n",
              "      <td>...</td>\n",
              "      <td>...</td>\n",
              "      <td>...</td>\n",
              "      <td>...</td>\n",
              "      <td>...</td>\n",
              "      <td>...</td>\n",
              "      <td>...</td>\n",
              "      <td>...</td>\n",
              "    </tr>\n",
              "    <tr>\n",
              "      <th>15921</th>\n",
              "      <td>615.398182</td>\n",
              "      <td>2.0</td>\n",
              "      <td>0.0</td>\n",
              "      <td>57.063026</td>\n",
              "      <td>1.0</td>\n",
              "      <td>122179.700724</td>\n",
              "      <td>1.0</td>\n",
              "      <td>0.0</td>\n",
              "      <td>1.0</td>\n",
              "      <td>85339.151620</td>\n",
              "    </tr>\n",
              "    <tr>\n",
              "      <th>15922</th>\n",
              "      <td>708.011852</td>\n",
              "      <td>0.0</td>\n",
              "      <td>1.0</td>\n",
              "      <td>49.000000</td>\n",
              "      <td>4.0</td>\n",
              "      <td>203812.272782</td>\n",
              "      <td>1.0</td>\n",
              "      <td>0.0</td>\n",
              "      <td>1.0</td>\n",
              "      <td>7941.654917</td>\n",
              "    </tr>\n",
              "    <tr>\n",
              "      <th>15923</th>\n",
              "      <td>604.000000</td>\n",
              "      <td>0.0</td>\n",
              "      <td>1.0</td>\n",
              "      <td>52.241299</td>\n",
              "      <td>2.0</td>\n",
              "      <td>121075.907868</td>\n",
              "      <td>1.0</td>\n",
              "      <td>1.0</td>\n",
              "      <td>1.0</td>\n",
              "      <td>48147.963159</td>\n",
              "    </tr>\n",
              "    <tr>\n",
              "      <th>15924</th>\n",
              "      <td>625.548479</td>\n",
              "      <td>2.0</td>\n",
              "      <td>1.0</td>\n",
              "      <td>42.685963</td>\n",
              "      <td>5.0</td>\n",
              "      <td>130979.980922</td>\n",
              "      <td>2.0</td>\n",
              "      <td>0.0</td>\n",
              "      <td>1.0</td>\n",
              "      <td>86033.141891</td>\n",
              "    </tr>\n",
              "    <tr>\n",
              "      <th>15925</th>\n",
              "      <td>778.300432</td>\n",
              "      <td>1.0</td>\n",
              "      <td>0.0</td>\n",
              "      <td>35.396334</td>\n",
              "      <td>2.0</td>\n",
              "      <td>103334.463344</td>\n",
              "      <td>1.0</td>\n",
              "      <td>1.0</td>\n",
              "      <td>0.0</td>\n",
              "      <td>62796.078664</td>\n",
              "    </tr>\n",
              "  </tbody>\n",
              "</table>\n",
              "<p>15926 rows × 10 columns</p>\n",
              "</div>"
            ],
            "text/plain": [
              "       CreditScore  Geography  ...  IsActiveMember  EstimatedSalary\n",
              "0       619.000000        0.0  ...             1.0    101348.880000\n",
              "1       608.000000        1.0  ...             1.0    112542.580000\n",
              "2       502.000000        0.0  ...             0.0    113931.570000\n",
              "3       699.000000        0.0  ...             0.0     93826.630000\n",
              "4       850.000000        1.0  ...             1.0     79084.100000\n",
              "...            ...        ...  ...             ...              ...\n",
              "15921   615.398182        2.0  ...             1.0     85339.151620\n",
              "15922   708.011852        0.0  ...             1.0      7941.654917\n",
              "15923   604.000000        0.0  ...             1.0     48147.963159\n",
              "15924   625.548479        2.0  ...             1.0     86033.141891\n",
              "15925   778.300432        1.0  ...             0.0     62796.078664\n",
              "\n",
              "[15926 rows x 10 columns]"
            ]
          },
          "metadata": {},
          "execution_count": 35
        }
      ]
    },
    {
      "cell_type": "code",
      "metadata": {
        "id": "8TRu4GB4aO6n"
      },
      "source": [
        "df3=pd.DataFrame(y_data,columns=[\"Exited\"])"
      ],
      "execution_count": 36,
      "outputs": []
    },
    {
      "cell_type": "code",
      "metadata": {
        "colab": {
          "base_uri": "https://localhost:8080/"
        },
        "id": "quF5oEw1a04H",
        "outputId": "16a54e91-ea6d-4e66-e3a7-a626fa032979"
      },
      "source": [
        "df3[\"Exited\"].value_counts()"
      ],
      "execution_count": 37,
      "outputs": [
        {
          "output_type": "execute_result",
          "data": {
            "text/plain": [
              "1    7963\n",
              "0    7963\n",
              "Name: Exited, dtype: int64"
            ]
          },
          "metadata": {},
          "execution_count": 37
        }
      ]
    },
    {
      "cell_type": "code",
      "metadata": {
        "id": "alZpCfXQl_J9"
      },
      "source": [
        "extra=df3[\"Exited\"]"
      ],
      "execution_count": 38,
      "outputs": []
    },
    {
      "cell_type": "code",
      "metadata": {
        "id": "oo0Nwxj1l_LV"
      },
      "source": [
        "df2 = df2.join(extra)"
      ],
      "execution_count": 39,
      "outputs": []
    },
    {
      "cell_type": "code",
      "metadata": {
        "colab": {
          "base_uri": "https://localhost:8080/",
          "height": 423
        },
        "id": "ysiRqzkel_QS",
        "outputId": "f6d9b130-1315-476e-eeab-505aba3e049f"
      },
      "source": [
        "df2"
      ],
      "execution_count": 40,
      "outputs": [
        {
          "output_type": "execute_result",
          "data": {
            "text/html": [
              "<div>\n",
              "<style scoped>\n",
              "    .dataframe tbody tr th:only-of-type {\n",
              "        vertical-align: middle;\n",
              "    }\n",
              "\n",
              "    .dataframe tbody tr th {\n",
              "        vertical-align: top;\n",
              "    }\n",
              "\n",
              "    .dataframe thead th {\n",
              "        text-align: right;\n",
              "    }\n",
              "</style>\n",
              "<table border=\"1\" class=\"dataframe\">\n",
              "  <thead>\n",
              "    <tr style=\"text-align: right;\">\n",
              "      <th></th>\n",
              "      <th>CreditScore</th>\n",
              "      <th>Geography</th>\n",
              "      <th>Gender</th>\n",
              "      <th>Age</th>\n",
              "      <th>Tenure</th>\n",
              "      <th>Balance</th>\n",
              "      <th>NumOfProducts</th>\n",
              "      <th>HasCrCard</th>\n",
              "      <th>IsActiveMember</th>\n",
              "      <th>EstimatedSalary</th>\n",
              "      <th>Exited</th>\n",
              "    </tr>\n",
              "  </thead>\n",
              "  <tbody>\n",
              "    <tr>\n",
              "      <th>0</th>\n",
              "      <td>619.000000</td>\n",
              "      <td>0.0</td>\n",
              "      <td>1.0</td>\n",
              "      <td>42.000000</td>\n",
              "      <td>2.0</td>\n",
              "      <td>0.000000</td>\n",
              "      <td>1.0</td>\n",
              "      <td>1.0</td>\n",
              "      <td>1.0</td>\n",
              "      <td>101348.880000</td>\n",
              "      <td>1</td>\n",
              "    </tr>\n",
              "    <tr>\n",
              "      <th>1</th>\n",
              "      <td>608.000000</td>\n",
              "      <td>1.0</td>\n",
              "      <td>1.0</td>\n",
              "      <td>41.000000</td>\n",
              "      <td>1.0</td>\n",
              "      <td>83807.860000</td>\n",
              "      <td>1.0</td>\n",
              "      <td>0.0</td>\n",
              "      <td>1.0</td>\n",
              "      <td>112542.580000</td>\n",
              "      <td>0</td>\n",
              "    </tr>\n",
              "    <tr>\n",
              "      <th>2</th>\n",
              "      <td>502.000000</td>\n",
              "      <td>0.0</td>\n",
              "      <td>1.0</td>\n",
              "      <td>42.000000</td>\n",
              "      <td>8.0</td>\n",
              "      <td>159660.800000</td>\n",
              "      <td>3.0</td>\n",
              "      <td>1.0</td>\n",
              "      <td>0.0</td>\n",
              "      <td>113931.570000</td>\n",
              "      <td>1</td>\n",
              "    </tr>\n",
              "    <tr>\n",
              "      <th>3</th>\n",
              "      <td>699.000000</td>\n",
              "      <td>0.0</td>\n",
              "      <td>1.0</td>\n",
              "      <td>39.000000</td>\n",
              "      <td>1.0</td>\n",
              "      <td>0.000000</td>\n",
              "      <td>2.0</td>\n",
              "      <td>0.0</td>\n",
              "      <td>0.0</td>\n",
              "      <td>93826.630000</td>\n",
              "      <td>0</td>\n",
              "    </tr>\n",
              "    <tr>\n",
              "      <th>4</th>\n",
              "      <td>850.000000</td>\n",
              "      <td>1.0</td>\n",
              "      <td>1.0</td>\n",
              "      <td>43.000000</td>\n",
              "      <td>2.0</td>\n",
              "      <td>125510.820000</td>\n",
              "      <td>1.0</td>\n",
              "      <td>1.0</td>\n",
              "      <td>1.0</td>\n",
              "      <td>79084.100000</td>\n",
              "      <td>0</td>\n",
              "    </tr>\n",
              "    <tr>\n",
              "      <th>...</th>\n",
              "      <td>...</td>\n",
              "      <td>...</td>\n",
              "      <td>...</td>\n",
              "      <td>...</td>\n",
              "      <td>...</td>\n",
              "      <td>...</td>\n",
              "      <td>...</td>\n",
              "      <td>...</td>\n",
              "      <td>...</td>\n",
              "      <td>...</td>\n",
              "      <td>...</td>\n",
              "    </tr>\n",
              "    <tr>\n",
              "      <th>15921</th>\n",
              "      <td>615.398182</td>\n",
              "      <td>2.0</td>\n",
              "      <td>0.0</td>\n",
              "      <td>57.063026</td>\n",
              "      <td>1.0</td>\n",
              "      <td>122179.700724</td>\n",
              "      <td>1.0</td>\n",
              "      <td>0.0</td>\n",
              "      <td>1.0</td>\n",
              "      <td>85339.151620</td>\n",
              "      <td>1</td>\n",
              "    </tr>\n",
              "    <tr>\n",
              "      <th>15922</th>\n",
              "      <td>708.011852</td>\n",
              "      <td>0.0</td>\n",
              "      <td>1.0</td>\n",
              "      <td>49.000000</td>\n",
              "      <td>4.0</td>\n",
              "      <td>203812.272782</td>\n",
              "      <td>1.0</td>\n",
              "      <td>0.0</td>\n",
              "      <td>1.0</td>\n",
              "      <td>7941.654917</td>\n",
              "      <td>1</td>\n",
              "    </tr>\n",
              "    <tr>\n",
              "      <th>15923</th>\n",
              "      <td>604.000000</td>\n",
              "      <td>0.0</td>\n",
              "      <td>1.0</td>\n",
              "      <td>52.241299</td>\n",
              "      <td>2.0</td>\n",
              "      <td>121075.907868</td>\n",
              "      <td>1.0</td>\n",
              "      <td>1.0</td>\n",
              "      <td>1.0</td>\n",
              "      <td>48147.963159</td>\n",
              "      <td>1</td>\n",
              "    </tr>\n",
              "    <tr>\n",
              "      <th>15924</th>\n",
              "      <td>625.548479</td>\n",
              "      <td>2.0</td>\n",
              "      <td>1.0</td>\n",
              "      <td>42.685963</td>\n",
              "      <td>5.0</td>\n",
              "      <td>130979.980922</td>\n",
              "      <td>2.0</td>\n",
              "      <td>0.0</td>\n",
              "      <td>1.0</td>\n",
              "      <td>86033.141891</td>\n",
              "      <td>1</td>\n",
              "    </tr>\n",
              "    <tr>\n",
              "      <th>15925</th>\n",
              "      <td>778.300432</td>\n",
              "      <td>1.0</td>\n",
              "      <td>0.0</td>\n",
              "      <td>35.396334</td>\n",
              "      <td>2.0</td>\n",
              "      <td>103334.463344</td>\n",
              "      <td>1.0</td>\n",
              "      <td>1.0</td>\n",
              "      <td>0.0</td>\n",
              "      <td>62796.078664</td>\n",
              "      <td>1</td>\n",
              "    </tr>\n",
              "  </tbody>\n",
              "</table>\n",
              "<p>15926 rows × 11 columns</p>\n",
              "</div>"
            ],
            "text/plain": [
              "       CreditScore  Geography  Gender  ...  IsActiveMember  EstimatedSalary  Exited\n",
              "0       619.000000        0.0     1.0  ...             1.0    101348.880000       1\n",
              "1       608.000000        1.0     1.0  ...             1.0    112542.580000       0\n",
              "2       502.000000        0.0     1.0  ...             0.0    113931.570000       1\n",
              "3       699.000000        0.0     1.0  ...             0.0     93826.630000       0\n",
              "4       850.000000        1.0     1.0  ...             1.0     79084.100000       0\n",
              "...            ...        ...     ...  ...             ...              ...     ...\n",
              "15921   615.398182        2.0     0.0  ...             1.0     85339.151620       1\n",
              "15922   708.011852        0.0     1.0  ...             1.0      7941.654917       1\n",
              "15923   604.000000        0.0     1.0  ...             1.0     48147.963159       1\n",
              "15924   625.548479        2.0     1.0  ...             1.0     86033.141891       1\n",
              "15925   778.300432        1.0     0.0  ...             0.0     62796.078664       1\n",
              "\n",
              "[15926 rows x 11 columns]"
            ]
          },
          "metadata": {},
          "execution_count": 40
        }
      ]
    },
    {
      "cell_type": "code",
      "metadata": {
        "id": "xJLpPSmTFW1v"
      },
      "source": [
        "df_try=df2.copy()"
      ],
      "execution_count": 41,
      "outputs": []
    },
    {
      "cell_type": "code",
      "metadata": {
        "id": "syB8oNJEFe_V"
      },
      "source": [
        "X1=df_try.drop(\"Exited\",axis=1).to_numpy()"
      ],
      "execution_count": 42,
      "outputs": []
    },
    {
      "cell_type": "code",
      "metadata": {
        "id": "xA26QKOVFfAr"
      },
      "source": [
        "y1=df_try[\"Exited\"].to_numpy()"
      ],
      "execution_count": 44,
      "outputs": []
    },
    {
      "cell_type": "code",
      "metadata": {
        "id": "uAqjtPu9FW3S"
      },
      "source": [
        "X_train1, X_test1, y_train1, y_test1 = train_test_split(X1, y1, test_size = 0.20, random_state = 43)"
      ],
      "execution_count": 45,
      "outputs": []
    },
    {
      "cell_type": "code",
      "metadata": {
        "colab": {
          "base_uri": "https://localhost:8080/"
        },
        "id": "dbbl7SnDFW72",
        "outputId": "2a2732d1-170f-4178-8614-eec9eac2f48d"
      },
      "source": [
        "print(X_test1[0],y_test1[0])"
      ],
      "execution_count": 47,
      "outputs": [
        {
          "output_type": "stream",
          "name": "stdout",
          "text": [
            "[4.960000e+02 0.000000e+00 0.000000e+00 3.100000e+01 5.000000e+00\n",
            " 0.000000e+00 2.000000e+00 1.000000e+00 0.000000e+00 9.371313e+04] 0\n"
          ]
        }
      ]
    },
    {
      "cell_type": "code",
      "metadata": {
        "id": "ACSXNDOEGKus"
      },
      "source": [
        ""
      ],
      "execution_count": null,
      "outputs": []
    },
    {
      "cell_type": "code",
      "metadata": {
        "id": "DBma69PrGK01"
      },
      "source": [
        ""
      ],
      "execution_count": null,
      "outputs": []
    },
    {
      "cell_type": "code",
      "metadata": {
        "id": "d4YYCZPcGK2Y"
      },
      "source": [
        ""
      ],
      "execution_count": null,
      "outputs": []
    },
    {
      "cell_type": "code",
      "metadata": {
        "id": "5vWWcDKnGK7D"
      },
      "source": [
        ""
      ],
      "execution_count": null,
      "outputs": []
    },
    {
      "cell_type": "code",
      "metadata": {
        "id": "j6F_CGUza05P"
      },
      "source": [
        "X2=df2.drop(\"Exited\",axis=1).to_numpy()"
      ],
      "execution_count": 63,
      "outputs": []
    },
    {
      "cell_type": "code",
      "metadata": {
        "id": "8odZgwBua09_"
      },
      "source": [
        "y2=df3[\"Exited\"].to_numpy()"
      ],
      "execution_count": 64,
      "outputs": []
    },
    {
      "cell_type": "code",
      "metadata": {
        "id": "CAnq8cp1bJ9i"
      },
      "source": [
        "df2[scaling_column] = scaler.fit_transform(df2[scaling_column])\n"
      ],
      "execution_count": 50,
      "outputs": []
    },
    {
      "cell_type": "code",
      "metadata": {
        "colab": {
          "base_uri": "https://localhost:8080/",
          "height": 423
        },
        "id": "fnwcVm3FbKBj",
        "outputId": "eb667666-45e8-4e94-89af-6db1aacc0550"
      },
      "source": [
        "df2"
      ],
      "execution_count": 51,
      "outputs": [
        {
          "output_type": "execute_result",
          "data": {
            "text/html": [
              "<div>\n",
              "<style scoped>\n",
              "    .dataframe tbody tr th:only-of-type {\n",
              "        vertical-align: middle;\n",
              "    }\n",
              "\n",
              "    .dataframe tbody tr th {\n",
              "        vertical-align: top;\n",
              "    }\n",
              "\n",
              "    .dataframe thead th {\n",
              "        text-align: right;\n",
              "    }\n",
              "</style>\n",
              "<table border=\"1\" class=\"dataframe\">\n",
              "  <thead>\n",
              "    <tr style=\"text-align: right;\">\n",
              "      <th></th>\n",
              "      <th>CreditScore</th>\n",
              "      <th>Geography</th>\n",
              "      <th>Gender</th>\n",
              "      <th>Age</th>\n",
              "      <th>Tenure</th>\n",
              "      <th>Balance</th>\n",
              "      <th>NumOfProducts</th>\n",
              "      <th>HasCrCard</th>\n",
              "      <th>IsActiveMember</th>\n",
              "      <th>EstimatedSalary</th>\n",
              "      <th>Exited</th>\n",
              "    </tr>\n",
              "  </thead>\n",
              "  <tbody>\n",
              "    <tr>\n",
              "      <th>0</th>\n",
              "      <td>0.538000</td>\n",
              "      <td>0.0</td>\n",
              "      <td>1.0</td>\n",
              "      <td>0.324324</td>\n",
              "      <td>0.2</td>\n",
              "      <td>0.000000</td>\n",
              "      <td>1.0</td>\n",
              "      <td>1.0</td>\n",
              "      <td>1.0</td>\n",
              "      <td>0.506735</td>\n",
              "      <td>1</td>\n",
              "    </tr>\n",
              "    <tr>\n",
              "      <th>1</th>\n",
              "      <td>0.516000</td>\n",
              "      <td>1.0</td>\n",
              "      <td>1.0</td>\n",
              "      <td>0.310811</td>\n",
              "      <td>0.1</td>\n",
              "      <td>0.334031</td>\n",
              "      <td>1.0</td>\n",
              "      <td>0.0</td>\n",
              "      <td>1.0</td>\n",
              "      <td>0.562709</td>\n",
              "      <td>0</td>\n",
              "    </tr>\n",
              "    <tr>\n",
              "      <th>2</th>\n",
              "      <td>0.304000</td>\n",
              "      <td>0.0</td>\n",
              "      <td>1.0</td>\n",
              "      <td>0.324324</td>\n",
              "      <td>0.8</td>\n",
              "      <td>0.636357</td>\n",
              "      <td>3.0</td>\n",
              "      <td>1.0</td>\n",
              "      <td>0.0</td>\n",
              "      <td>0.569654</td>\n",
              "      <td>1</td>\n",
              "    </tr>\n",
              "    <tr>\n",
              "      <th>3</th>\n",
              "      <td>0.698000</td>\n",
              "      <td>0.0</td>\n",
              "      <td>1.0</td>\n",
              "      <td>0.283784</td>\n",
              "      <td>0.1</td>\n",
              "      <td>0.000000</td>\n",
              "      <td>2.0</td>\n",
              "      <td>0.0</td>\n",
              "      <td>0.0</td>\n",
              "      <td>0.469120</td>\n",
              "      <td>0</td>\n",
              "    </tr>\n",
              "    <tr>\n",
              "      <th>4</th>\n",
              "      <td>1.000000</td>\n",
              "      <td>1.0</td>\n",
              "      <td>1.0</td>\n",
              "      <td>0.337838</td>\n",
              "      <td>0.2</td>\n",
              "      <td>0.500246</td>\n",
              "      <td>1.0</td>\n",
              "      <td>1.0</td>\n",
              "      <td>1.0</td>\n",
              "      <td>0.395400</td>\n",
              "      <td>0</td>\n",
              "    </tr>\n",
              "    <tr>\n",
              "      <th>...</th>\n",
              "      <td>...</td>\n",
              "      <td>...</td>\n",
              "      <td>...</td>\n",
              "      <td>...</td>\n",
              "      <td>...</td>\n",
              "      <td>...</td>\n",
              "      <td>...</td>\n",
              "      <td>...</td>\n",
              "      <td>...</td>\n",
              "      <td>...</td>\n",
              "      <td>...</td>\n",
              "    </tr>\n",
              "    <tr>\n",
              "      <th>15921</th>\n",
              "      <td>0.530796</td>\n",
              "      <td>2.0</td>\n",
              "      <td>0.0</td>\n",
              "      <td>0.527879</td>\n",
              "      <td>0.1</td>\n",
              "      <td>0.486969</td>\n",
              "      <td>1.0</td>\n",
              "      <td>0.0</td>\n",
              "      <td>1.0</td>\n",
              "      <td>0.426679</td>\n",
              "      <td>1</td>\n",
              "    </tr>\n",
              "    <tr>\n",
              "      <th>15922</th>\n",
              "      <td>0.716024</td>\n",
              "      <td>0.0</td>\n",
              "      <td>1.0</td>\n",
              "      <td>0.418919</td>\n",
              "      <td>0.4</td>\n",
              "      <td>0.812331</td>\n",
              "      <td>1.0</td>\n",
              "      <td>0.0</td>\n",
              "      <td>1.0</td>\n",
              "      <td>0.039654</td>\n",
              "      <td>1</td>\n",
              "    </tr>\n",
              "    <tr>\n",
              "      <th>15923</th>\n",
              "      <td>0.508000</td>\n",
              "      <td>0.0</td>\n",
              "      <td>1.0</td>\n",
              "      <td>0.462720</td>\n",
              "      <td>0.2</td>\n",
              "      <td>0.482570</td>\n",
              "      <td>1.0</td>\n",
              "      <td>1.0</td>\n",
              "      <td>1.0</td>\n",
              "      <td>0.240705</td>\n",
              "      <td>1</td>\n",
              "    </tr>\n",
              "    <tr>\n",
              "      <th>15924</th>\n",
              "      <td>0.551097</td>\n",
              "      <td>2.0</td>\n",
              "      <td>1.0</td>\n",
              "      <td>0.333594</td>\n",
              "      <td>0.5</td>\n",
              "      <td>0.522045</td>\n",
              "      <td>2.0</td>\n",
              "      <td>0.0</td>\n",
              "      <td>1.0</td>\n",
              "      <td>0.430149</td>\n",
              "      <td>1</td>\n",
              "    </tr>\n",
              "    <tr>\n",
              "      <th>15925</th>\n",
              "      <td>0.856601</td>\n",
              "      <td>1.0</td>\n",
              "      <td>0.0</td>\n",
              "      <td>0.235086</td>\n",
              "      <td>0.2</td>\n",
              "      <td>0.411858</td>\n",
              "      <td>1.0</td>\n",
              "      <td>1.0</td>\n",
              "      <td>0.0</td>\n",
              "      <td>0.313952</td>\n",
              "      <td>1</td>\n",
              "    </tr>\n",
              "  </tbody>\n",
              "</table>\n",
              "<p>15926 rows × 11 columns</p>\n",
              "</div>"
            ],
            "text/plain": [
              "       CreditScore  Geography  Gender  ...  IsActiveMember  EstimatedSalary  Exited\n",
              "0         0.538000        0.0     1.0  ...             1.0         0.506735       1\n",
              "1         0.516000        1.0     1.0  ...             1.0         0.562709       0\n",
              "2         0.304000        0.0     1.0  ...             0.0         0.569654       1\n",
              "3         0.698000        0.0     1.0  ...             0.0         0.469120       0\n",
              "4         1.000000        1.0     1.0  ...             1.0         0.395400       0\n",
              "...            ...        ...     ...  ...             ...              ...     ...\n",
              "15921     0.530796        2.0     0.0  ...             1.0         0.426679       1\n",
              "15922     0.716024        0.0     1.0  ...             1.0         0.039654       1\n",
              "15923     0.508000        0.0     1.0  ...             1.0         0.240705       1\n",
              "15924     0.551097        2.0     1.0  ...             1.0         0.430149       1\n",
              "15925     0.856601        1.0     0.0  ...             0.0         0.313952       1\n",
              "\n",
              "[15926 rows x 11 columns]"
            ]
          },
          "metadata": {},
          "execution_count": 51
        }
      ]
    },
    {
      "cell_type": "code",
      "metadata": {
        "id": "XJzKovRTb0Pk"
      },
      "source": [
        "X_train3, X_test3, y_train3, y_test3 = train_test_split(X2, y2, test_size = 0.20, random_state = 43)"
      ],
      "execution_count": 65,
      "outputs": []
    },
    {
      "cell_type": "code",
      "metadata": {
        "id": "OBHbBvXAR0OO"
      },
      "source": [
        "\n",
        "\n",
        "# Initializing Multi-layer perceptron  classifier\n",
        "classifier1 = MLPClassifier(activation = \"relu\", alpha = 0.1, hidden_layer_sizes = (10,10,10), learning_rate = \"constant\", max_iter = 2000, random_state = 1000)\n",
        "\n",
        "classifier2 = XGBClassifier(max_depth = 10,random_state = 10, n_estimators=220, eval_metric = 'auc', min_child_weight = 3,\n",
        "                    colsample_bytree = 0.75, subsample= 0.9)"
      ],
      "execution_count": 66,
      "outputs": []
    },
    {
      "cell_type": "code",
      "metadata": {
        "id": "USe33I7TR9kS"
      },
      "source": [
        "sclf = StackingCVClassifier(classifiers = [ classifier1,classifier2],\n",
        "                            shuffle = True,\n",
        "                            use_probas = True,\n",
        "                            cv = 5,\n",
        "                            meta_classifier = XGBClassifier(probability = True))"
      ],
      "execution_count": 67,
      "outputs": []
    },
    {
      "cell_type": "code",
      "metadata": {
        "id": "fAxl4nYHSLeN"
      },
      "source": [
        "# Create list to store classifiers\n",
        "classifiers = { \n",
        "               \"ANN\": classifier1,\n",
        "               \"XGB\": classifier2,\n",
        "               \"Stack\": sclf}"
      ],
      "execution_count": 68,
      "outputs": []
    },
    {
      "cell_type": "code",
      "metadata": {
        "id": "JnhyIBZXSSgX",
        "colab": {
          "base_uri": "https://localhost:8080/"
        },
        "outputId": "26ed64eb-f35e-495c-f4a6-0f3ff5c503cf"
      },
      "source": [
        "c=0\n",
        "for key in classifiers:\n",
        "    # Get classifier\n",
        "    print(c)\n",
        "\n",
        "    classifier = classifiers[key]\n",
        "    \n",
        "    # Fit classifier\n",
        "    classifier.fit(X_train3, y_train3)\n",
        "        \n",
        "    # Save fitted classifier\n",
        "    classifiers[key] = classifier\n",
        "    c+=1"
      ],
      "execution_count": 69,
      "outputs": [
        {
          "output_type": "stream",
          "name": "stdout",
          "text": [
            "0\n",
            "1\n",
            "2\n"
          ]
        }
      ]
    },
    {
      "cell_type": "code",
      "metadata": {
        "colab": {
          "base_uri": "https://localhost:8080/"
        },
        "id": "7F4ZJSznEdHI",
        "outputId": "56f4eb16-d204-4f8b-b57f-8e7fb3b0e13a"
      },
      "source": [
        "X_test3"
      ],
      "execution_count": 70,
      "outputs": [
        {
          "output_type": "execute_result",
          "data": {
            "text/plain": [
              "array([[0.292     , 0.        , 0.        , ..., 1.        , 0.        ,\n",
              "        0.4685525 ],\n",
              "       [0.956     , 0.        , 0.        , ..., 0.        , 0.        ,\n",
              "        0.19061915],\n",
              "       [0.51713092, 2.        , 0.        , ..., 0.        , 0.        ,\n",
              "        0.00449217],\n",
              "       ...,\n",
              "       [0.358     , 1.        , 0.        , ..., 1.        , 1.        ,\n",
              "        0.93647403],\n",
              "       [0.72      , 0.        , 1.        , ..., 1.        , 1.        ,\n",
              "        0.56144102],\n",
              "       [0.86      , 2.        , 0.        , ..., 1.        , 1.        ,\n",
              "        0.6125345 ]])"
            ]
          },
          "metadata": {},
          "execution_count": 70
        }
      ]
    },
    {
      "cell_type": "code",
      "metadata": {
        "id": "q940k3NXSXxt",
        "colab": {
          "base_uri": "https://localhost:8080/"
        },
        "outputId": "e5e9a1e7-4d9b-446c-fd98-de540a929886"
      },
      "source": [
        "results = pd.DataFrame()\n",
        "for key in classifiers:\n",
        "    # Make prediction on test set\n",
        "    # print(classifiers[key].predict_proba(X_test3))\n",
        "    y_pred = classifiers[key].predict_proba(X_test3)[:,1]\n",
        "    # print(y_pred)\n",
        "    # Save results in pandas dataframe object\n",
        "    results[f\"{key}\"] = y_pred\n",
        "\n",
        "# Add the test set to the results object\n",
        "results[\"Target\"] = y_test3"
      ],
      "execution_count": 74,
      "outputs": [
        {
          "output_type": "stream",
          "name": "stdout",
          "text": [
            "[[0.96316539 0.03683461]\n",
            " [0.81044571 0.18955429]\n",
            " [0.07191442 0.92808558]\n",
            " ...\n",
            " [0.96180453 0.03819547]\n",
            " [0.95310718 0.04689282]\n",
            " [0.64926847 0.35073153]]\n",
            "[0.03683461 0.18955429 0.92808558 ... 0.03819547 0.04689282 0.35073153]\n",
            "[[0.9896504  0.01034959]\n",
            " [0.96532786 0.03467215]\n",
            " [0.01714319 0.9828568 ]\n",
            " ...\n",
            " [0.98816293 0.01183705]\n",
            " [0.9726095  0.02739047]\n",
            " [0.8953377  0.1046623 ]]\n",
            "[0.01034959 0.03467215 0.9828568  ... 0.01183705 0.02739047 0.1046623 ]\n",
            "[[0.99102813 0.00897184]\n",
            " [0.9722079  0.02779212]\n",
            " [0.00756484 0.99243516]\n",
            " ...\n",
            " [0.9887079  0.01129213]\n",
            " [0.9819167  0.01808325]\n",
            " [0.89965594 0.10034408]]\n",
            "[0.00897184 0.02779212 0.99243516 ... 0.01129213 0.01808325 0.10034408]\n"
          ]
        }
      ]
    },
    {
      "cell_type": "code",
      "metadata": {
        "id": "mRR8nbxm1c-L"
      },
      "source": [
        "result1=results.copy()"
      ],
      "execution_count": 108,
      "outputs": []
    },
    {
      "cell_type": "code",
      "metadata": {
        "colab": {
          "base_uri": "https://localhost:8080/",
          "height": 423
        },
        "id": "q5Ttg-arw4yR",
        "outputId": "b0a04a92-71d8-4880-ee37-4fa76f5654b2"
      },
      "source": [
        "result1"
      ],
      "execution_count": 109,
      "outputs": [
        {
          "output_type": "execute_result",
          "data": {
            "text/html": [
              "<div>\n",
              "<style scoped>\n",
              "    .dataframe tbody tr th:only-of-type {\n",
              "        vertical-align: middle;\n",
              "    }\n",
              "\n",
              "    .dataframe tbody tr th {\n",
              "        vertical-align: top;\n",
              "    }\n",
              "\n",
              "    .dataframe thead th {\n",
              "        text-align: right;\n",
              "    }\n",
              "</style>\n",
              "<table border=\"1\" class=\"dataframe\">\n",
              "  <thead>\n",
              "    <tr style=\"text-align: right;\">\n",
              "      <th></th>\n",
              "      <th>ANN</th>\n",
              "      <th>XGB</th>\n",
              "      <th>Stack</th>\n",
              "      <th>Target</th>\n",
              "    </tr>\n",
              "  </thead>\n",
              "  <tbody>\n",
              "    <tr>\n",
              "      <th>0</th>\n",
              "      <td>0.058380</td>\n",
              "      <td>0.018438</td>\n",
              "      <td>0.021101</td>\n",
              "      <td>0</td>\n",
              "    </tr>\n",
              "    <tr>\n",
              "      <th>1</th>\n",
              "      <td>0.253186</td>\n",
              "      <td>0.011816</td>\n",
              "      <td>0.009899</td>\n",
              "      <td>0</td>\n",
              "    </tr>\n",
              "    <tr>\n",
              "      <th>2</th>\n",
              "      <td>0.816157</td>\n",
              "      <td>0.989766</td>\n",
              "      <td>0.999477</td>\n",
              "      <td>1</td>\n",
              "    </tr>\n",
              "    <tr>\n",
              "      <th>3</th>\n",
              "      <td>0.378895</td>\n",
              "      <td>0.110966</td>\n",
              "      <td>0.128710</td>\n",
              "      <td>1</td>\n",
              "    </tr>\n",
              "    <tr>\n",
              "      <th>4</th>\n",
              "      <td>0.603148</td>\n",
              "      <td>0.260613</td>\n",
              "      <td>0.224313</td>\n",
              "      <td>0</td>\n",
              "    </tr>\n",
              "    <tr>\n",
              "      <th>...</th>\n",
              "      <td>...</td>\n",
              "      <td>...</td>\n",
              "      <td>...</td>\n",
              "      <td>...</td>\n",
              "    </tr>\n",
              "    <tr>\n",
              "      <th>3181</th>\n",
              "      <td>0.122298</td>\n",
              "      <td>0.024798</td>\n",
              "      <td>0.025419</td>\n",
              "      <td>0</td>\n",
              "    </tr>\n",
              "    <tr>\n",
              "      <th>3182</th>\n",
              "      <td>0.641008</td>\n",
              "      <td>0.990611</td>\n",
              "      <td>0.999608</td>\n",
              "      <td>1</td>\n",
              "    </tr>\n",
              "    <tr>\n",
              "      <th>3183</th>\n",
              "      <td>0.067541</td>\n",
              "      <td>0.020094</td>\n",
              "      <td>0.021101</td>\n",
              "      <td>0</td>\n",
              "    </tr>\n",
              "    <tr>\n",
              "      <th>3184</th>\n",
              "      <td>0.083552</td>\n",
              "      <td>0.077032</td>\n",
              "      <td>0.063288</td>\n",
              "      <td>0</td>\n",
              "    </tr>\n",
              "    <tr>\n",
              "      <th>3185</th>\n",
              "      <td>0.180010</td>\n",
              "      <td>0.167208</td>\n",
              "      <td>0.180524</td>\n",
              "      <td>0</td>\n",
              "    </tr>\n",
              "  </tbody>\n",
              "</table>\n",
              "<p>3186 rows × 4 columns</p>\n",
              "</div>"
            ],
            "text/plain": [
              "           ANN       XGB     Stack  Target\n",
              "0     0.058380  0.018438  0.021101       0\n",
              "1     0.253186  0.011816  0.009899       0\n",
              "2     0.816157  0.989766  0.999477       1\n",
              "3     0.378895  0.110966  0.128710       1\n",
              "4     0.603148  0.260613  0.224313       0\n",
              "...        ...       ...       ...     ...\n",
              "3181  0.122298  0.024798  0.025419       0\n",
              "3182  0.641008  0.990611  0.999608       1\n",
              "3183  0.067541  0.020094  0.021101       0\n",
              "3184  0.083552  0.077032  0.063288       0\n",
              "3185  0.180010  0.167208  0.180524       0\n",
              "\n",
              "[3186 rows x 4 columns]"
            ]
          },
          "metadata": {},
          "execution_count": 109
        }
      ]
    },
    {
      "cell_type": "code",
      "metadata": {
        "id": "m2kFbysQ29ft"
      },
      "source": [
        "def func1(text):\n",
        "  if text >= 0.5:\n",
        "    return 1\n",
        "  else:\n",
        "    return 0\n",
        "\n",
        "  \n"
      ],
      "execution_count": 110,
      "outputs": []
    },
    {
      "cell_type": "code",
      "metadata": {
        "id": "kJ2mJjANw4zo"
      },
      "source": [
        "result1['Stack'] = result1['Stack'].apply(func1)"
      ],
      "execution_count": 111,
      "outputs": []
    },
    {
      "cell_type": "code",
      "metadata": {
        "id": "uyk7lywR3nVk"
      },
      "source": [
        "result1['XGB'] = result1['XGB'].apply(func1)"
      ],
      "execution_count": 112,
      "outputs": []
    },
    {
      "cell_type": "code",
      "metadata": {
        "id": "XYUsut7x3nWk"
      },
      "source": [
        "result1['ANN'] = result1['ANN'].apply(func1)"
      ],
      "execution_count": 113,
      "outputs": []
    },
    {
      "cell_type": "code",
      "metadata": {
        "colab": {
          "base_uri": "https://localhost:8080/",
          "height": 423
        },
        "id": "Lg7o0oSv3jhf",
        "outputId": "e45bab11-f5ff-4e72-fec7-f0feeaf6030a"
      },
      "source": [
        "result1"
      ],
      "execution_count": 114,
      "outputs": [
        {
          "output_type": "execute_result",
          "data": {
            "text/html": [
              "<div>\n",
              "<style scoped>\n",
              "    .dataframe tbody tr th:only-of-type {\n",
              "        vertical-align: middle;\n",
              "    }\n",
              "\n",
              "    .dataframe tbody tr th {\n",
              "        vertical-align: top;\n",
              "    }\n",
              "\n",
              "    .dataframe thead th {\n",
              "        text-align: right;\n",
              "    }\n",
              "</style>\n",
              "<table border=\"1\" class=\"dataframe\">\n",
              "  <thead>\n",
              "    <tr style=\"text-align: right;\">\n",
              "      <th></th>\n",
              "      <th>ANN</th>\n",
              "      <th>XGB</th>\n",
              "      <th>Stack</th>\n",
              "      <th>Target</th>\n",
              "    </tr>\n",
              "  </thead>\n",
              "  <tbody>\n",
              "    <tr>\n",
              "      <th>0</th>\n",
              "      <td>0</td>\n",
              "      <td>0</td>\n",
              "      <td>0</td>\n",
              "      <td>0</td>\n",
              "    </tr>\n",
              "    <tr>\n",
              "      <th>1</th>\n",
              "      <td>0</td>\n",
              "      <td>0</td>\n",
              "      <td>0</td>\n",
              "      <td>0</td>\n",
              "    </tr>\n",
              "    <tr>\n",
              "      <th>2</th>\n",
              "      <td>1</td>\n",
              "      <td>1</td>\n",
              "      <td>1</td>\n",
              "      <td>1</td>\n",
              "    </tr>\n",
              "    <tr>\n",
              "      <th>3</th>\n",
              "      <td>0</td>\n",
              "      <td>0</td>\n",
              "      <td>0</td>\n",
              "      <td>1</td>\n",
              "    </tr>\n",
              "    <tr>\n",
              "      <th>4</th>\n",
              "      <td>1</td>\n",
              "      <td>0</td>\n",
              "      <td>0</td>\n",
              "      <td>0</td>\n",
              "    </tr>\n",
              "    <tr>\n",
              "      <th>...</th>\n",
              "      <td>...</td>\n",
              "      <td>...</td>\n",
              "      <td>...</td>\n",
              "      <td>...</td>\n",
              "    </tr>\n",
              "    <tr>\n",
              "      <th>3181</th>\n",
              "      <td>0</td>\n",
              "      <td>0</td>\n",
              "      <td>0</td>\n",
              "      <td>0</td>\n",
              "    </tr>\n",
              "    <tr>\n",
              "      <th>3182</th>\n",
              "      <td>1</td>\n",
              "      <td>1</td>\n",
              "      <td>1</td>\n",
              "      <td>1</td>\n",
              "    </tr>\n",
              "    <tr>\n",
              "      <th>3183</th>\n",
              "      <td>0</td>\n",
              "      <td>0</td>\n",
              "      <td>0</td>\n",
              "      <td>0</td>\n",
              "    </tr>\n",
              "    <tr>\n",
              "      <th>3184</th>\n",
              "      <td>0</td>\n",
              "      <td>0</td>\n",
              "      <td>0</td>\n",
              "      <td>0</td>\n",
              "    </tr>\n",
              "    <tr>\n",
              "      <th>3185</th>\n",
              "      <td>0</td>\n",
              "      <td>0</td>\n",
              "      <td>0</td>\n",
              "      <td>0</td>\n",
              "    </tr>\n",
              "  </tbody>\n",
              "</table>\n",
              "<p>3186 rows × 4 columns</p>\n",
              "</div>"
            ],
            "text/plain": [
              "      ANN  XGB  Stack  Target\n",
              "0       0    0      0       0\n",
              "1       0    0      0       0\n",
              "2       1    1      1       1\n",
              "3       0    0      0       1\n",
              "4       1    0      0       0\n",
              "...   ...  ...    ...     ...\n",
              "3181    0    0      0       0\n",
              "3182    1    1      1       1\n",
              "3183    0    0      0       0\n",
              "3184    0    0      0       0\n",
              "3185    0    0      0       0\n",
              "\n",
              "[3186 rows x 4 columns]"
            ]
          },
          "metadata": {},
          "execution_count": 114
        }
      ]
    },
    {
      "cell_type": "code",
      "metadata": {
        "id": "5RN9cWTwF_8A"
      },
      "source": [
        "from sklearn.metrics import accuracy_score, precision_score, recall_score, f1_score"
      ],
      "execution_count": 115,
      "outputs": []
    },
    {
      "cell_type": "code",
      "metadata": {
        "colab": {
          "base_uri": "https://localhost:8080/",
          "height": 293
        },
        "id": "0jtgt8CiUZ32",
        "outputId": "69090c28-6701-4f53-c04b-393e4056b417"
      },
      "source": [
        "sns.set(font_scale = 1)\n",
        "sns.set_style({\"axes.facecolor\": \"1.0\", \"axes.edgecolor\": \"0.85\", \"grid.color\": \"0.85\",\n",
        "               \"grid.linestyle\": \"-\", 'axes.labelcolor': '0.4', \"xtick.color\": \"0.4\",\n",
        "               'ytick.color': '0.4'})\n",
        "\n",
        "# Plot\n",
        "f, ax = plt.subplots(figsize=(13, 4), nrows=1, ncols = 5)\n",
        "\n",
        "for key, counter in zip(classifiers, range(5)):\n",
        "    # Get predictions\n",
        "    y_pred = results[key]\n",
        "    \n",
        "    # Get AUC\n",
        "    auc = metrics.roc_auc_score(y_test3, y_pred)\n",
        "    # print(accuracy_score(y_pred,y_test))\n",
        "    # auc=accuracy_score(y_pred,y_test)\n",
        "    textstr = f\"AUC: {auc:.3f}\"\n",
        "\n",
        "    # Plot false distribution\n",
        "    false_pred = results[results[\"Target\"] == 0]\n",
        "    sns.distplot(false_pred[key], hist=True, kde=False, \n",
        "                 bins=int(25), color = 'red',\n",
        "                 hist_kws={'edgecolor':'black'}, ax = ax[counter])\n",
        "    \n",
        "    # Plot true distribution\n",
        "    true_pred = results[results[\"Target\"] == 1]\n",
        "    sns.distplot(results[key], hist=True, kde=False, \n",
        "                 bins=int(25), color = 'green',\n",
        "                 hist_kws={'edgecolor':'black'}, ax = ax[counter])\n",
        "    \n",
        "    \n",
        "    # These are matplotlib.patch.Patch properties\n",
        "    props = dict(boxstyle='round', facecolor='white', alpha=0.5)\n",
        "    \n",
        "    # Place a text box in upper left in axes coords\n",
        "    ax[counter].text(0.05, 0.95, textstr, transform=ax[counter].transAxes, fontsize=14,\n",
        "                    verticalalignment = \"top\", bbox=props)\n",
        "    \n",
        "    # Set axis limits and labels\n",
        "    ax[counter].set_title(f\"{key} Distribution\")\n",
        "    ax[counter].set_xlim(0,1)\n",
        "    ax[counter].set_xlabel(\"Probability\")\n",
        "\n",
        "# Tight layout\n",
        "plt.tight_layout()\n",
        "\n",
        "# Save Figure\n",
        "plt.savefig(\"Probability Distribution for each Classifier.png\", dpi = 1080)"
      ],
      "execution_count": 116,
      "outputs": [
        {
          "output_type": "display_data",
          "data": {
            "image/png": "[encoded data removed]",
            "text/plain": [
              "<Figure size 936x288 with 5 Axes>"
            ]
          },
          "metadata": {}
        }
      ]
    },
    {
      "cell_type": "code",
      "metadata": {
        "id": "1mNAeSKj31pi"
      },
      "source": [
        ""
      ],
      "execution_count": null,
      "outputs": []
    },
    {
      "cell_type": "code",
      "metadata": {
        "id": "pnXUgPSYUtoy",
        "colab": {
          "base_uri": "https://localhost:8080/",
          "height": 293
        },
        "outputId": "4ffdf4ce-fe0c-490c-98da-490d7ad71501"
      },
      "source": [
        "sns.set(font_scale = 1)\n",
        "sns.set_style({\"axes.facecolor\": \"1.0\", \"axes.edgecolor\": \"0.85\", \"grid.color\": \"0.85\",\n",
        "               \"grid.linestyle\": \"-\", 'axes.labelcolor': '0.4', \"xtick.color\": \"0.4\",\n",
        "               'ytick.color': '0.4'})\n",
        "\n",
        "# Plot\n",
        "f, ax = plt.subplots(figsize=(13, 4), nrows=1, ncols = 5)\n",
        "\n",
        "for key, counter in zip(classifiers, range(5)):\n",
        "    # Get predictions\n",
        "    y_pred = result1[key]\n",
        "    # print(y_pred)\n",
        "    # print(key)\n",
        "    # Get AUC\n",
        "    # auc = metrics.roc_auc_score(y_test, y_pred)\n",
        "    auc=metrics.precision_score(y_test3,y_pred)\n",
        "    # print(accuracy_score(y_pred,y_test))\n",
        "    # auc=accuracy_score(y_pred,y_test)\n",
        "    textstr = f\"Precision_score: {auc:.3f}\"\n",
        "\n",
        "    # Plot false distribution\n",
        "    false_pred = result1[result1[\"Target\"] == 0]\n",
        "    sns.distplot(false_pred[key], hist=True, kde=False, \n",
        "                 bins=int(25), color = 'red',\n",
        "                 hist_kws={'edgecolor':'black'}, ax = ax[counter])\n",
        "    \n",
        "    # Plot true distribution\n",
        "    true_pred = result1[result1[\"Target\"] == 1]\n",
        "    sns.distplot(result1[key], hist=True, kde=False, \n",
        "                 bins=int(25), color = 'green',\n",
        "                 hist_kws={'edgecolor':'black'}, ax = ax[counter])\n",
        "    \n",
        "    \n",
        "    # These are matplotlib.patch.Patch properties\n",
        "    props = dict(boxstyle='round', facecolor='white', alpha=0.5)\n",
        "    \n",
        "    # Place a text box in upper left in axes coords\n",
        "    ax[counter].text(0.05, 0.95, textstr, transform=ax[counter].transAxes, fontsize=14,\n",
        "                    verticalalignment = \"top\", bbox=props)\n",
        "    \n",
        "    # Set axis limits and labels\n",
        "    ax[counter].set_title(f\"{key} Classifier\")\n",
        "    ax[counter].set_xlim(0,1)\n",
        "    ax[counter].set_xlabel(\"Score\")\n",
        "\n",
        "# Tight layout\n",
        "plt.tight_layout()\n",
        "\n",
        "# Save Figure\n",
        "plt.savefig(\"Precision score Distribution for each Classifier.png\", dpi = 1080)"
      ],
      "execution_count": 123,
      "outputs": [
        {
          "output_type": "display_data",
          "data": {
            "image/png": "[encoded data removed]",
            "text/plain": [
              "<Figure size 936x288 with 5 Axes>"
            ]
          },
          "metadata": {}
        }
      ]
    },
    {
      "cell_type": "code",
      "metadata": {
        "colab": {
          "base_uri": "https://localhost:8080/",
          "height": 293
        },
        "id": "0HFP9kcL-383",
        "outputId": "6fc1eaad-ceda-49ab-ffb6-48bd0623ce11"
      },
      "source": [
        "sns.set(font_scale = 1)\n",
        "sns.set_style({\"axes.facecolor\": \"1.0\", \"axes.edgecolor\": \"0.85\", \"grid.color\": \"0.85\",\n",
        "               \"grid.linestyle\": \"-\", 'axes.labelcolor': '0.4', \"xtick.color\": \"0.4\",\n",
        "               'ytick.color': '0.4'})\n",
        "\n",
        "# Plot\n",
        "f, ax = plt.subplots(figsize=(13, 4), nrows=1, ncols = 5)\n",
        "\n",
        "for key, counter in zip(classifiers, range(5)):\n",
        "    # Get predictions\n",
        "    y_pred = result1[key]\n",
        "    # print(y_pred)\n",
        "    # print(key)\n",
        "    # Get AUC\n",
        "    # auc = metrics.roc_auc_score(y_test, y_pred)\n",
        "    auc=metrics.recall_score(y_test3,y_pred)\n",
        "    # print(accuracy_score(y_pred,y_test))\n",
        "    # auc=accuracy_score(y_pred,y_test)\n",
        "    textstr = f\"Recall Score: {auc:.3f}\"\n",
        "\n",
        "    # Plot false distribution\n",
        "    false_pred = result1[result1[\"Target\"] == 0]\n",
        "    sns.distplot(false_pred[key], hist=True, kde=False, \n",
        "                 bins=int(25), color = 'red',\n",
        "                 hist_kws={'edgecolor':'black'}, ax = ax[counter])\n",
        "    \n",
        "    # Plot true distribution\n",
        "    true_pred = result1[result1[\"Target\"] == 1]\n",
        "    sns.distplot(result1[key], hist=True, kde=False, \n",
        "                 bins=int(25), color = 'green',\n",
        "                 hist_kws={'edgecolor':'black'}, ax = ax[counter])\n",
        "    \n",
        "    \n",
        "    # These are matplotlib.patch.Patch properties\n",
        "    props = dict(boxstyle='round', facecolor='white', alpha=0.5)\n",
        "    \n",
        "    # Place a text box in upper left in axes coords\n",
        "    ax[counter].text(0.05, 0.95, textstr, transform=ax[counter].transAxes, fontsize=14,\n",
        "                    verticalalignment = \"top\", bbox=props)\n",
        "    \n",
        "    # Set axis limits and labels\n",
        "    ax[counter].set_title(f\"{key} Classifier\")\n",
        "    ax[counter].set_xlim(0,1)\n",
        "    ax[counter].set_xlabel(\"Score\")\n",
        "\n",
        "# Tight layout\n",
        "plt.tight_layout()\n",
        "\n",
        "# Save Figure\n",
        "plt.savefig(\"Recall score Distribution for each Classifier.png\", dpi = 1080)"
      ],
      "execution_count": 124,
      "outputs": [
        {
          "output_type": "display_data",
          "data": {
            "image/png": "[encoded data removed]",
            "text/plain": [
              "<Figure size 936x288 with 5 Axes>"
            ]
          },
          "metadata": {}
        }
      ]
    },
    {
      "cell_type": "code",
      "metadata": {
        "colab": {
          "base_uri": "https://localhost:8080/",
          "height": 293
        },
        "id": "C91v2MGAbojn",
        "outputId": "67bf9948-d497-421b-94ce-dabd13435081"
      },
      "source": [
        "sns.set(font_scale = 1)\n",
        "sns.set_style({\"axes.facecolor\": \"1.0\", \"axes.edgecolor\": \"0.85\", \"grid.color\": \"0.85\",\n",
        "               \"grid.linestyle\": \"-\", 'axes.labelcolor': '0.4', \"xtick.color\": \"0.4\",\n",
        "               'ytick.color': '0.4'})\n",
        "\n",
        "# Plot\n",
        "f, ax = plt.subplots(figsize=(13, 4), nrows=1, ncols = 5)\n",
        "\n",
        "for key, counter in zip(classifiers, range(5)):\n",
        "    # Get predictions\n",
        "    y_pred = result1[key]\n",
        "    # print(y_pred)\n",
        "    # print(key)\n",
        "    # Get AUC\n",
        "    # auc = metrics.roc_auc_score(y_test, y_pred)\n",
        "    auc=metrics.f1_score(y_test3,y_pred)\n",
        "    # print(accuracy_score(y_pred,y_test))\n",
        "    # auc=accuracy_score(y_pred,y_test)\n",
        "    textstr = f\"F1 score: {auc:.3f}\"\n",
        "\n",
        "    # Plot false distribution\n",
        "    false_pred = result1[result1[\"Target\"] == 0]\n",
        "    sns.distplot(false_pred[key], hist=True, kde=False, \n",
        "                 bins=int(25), color = 'red',\n",
        "                 hist_kws={'edgecolor':'black'}, ax = ax[counter])\n",
        "    \n",
        "    # Plot true distribution\n",
        "    true_pred = result1[result1[\"Target\"] == 1]\n",
        "    sns.distplot(result1[key], hist=True, kde=False, \n",
        "                 bins=int(25), color = 'green',\n",
        "                 hist_kws={'edgecolor':'black'}, ax = ax[counter])\n",
        "    \n",
        "    \n",
        "    # These are matplotlib.patch.Patch properties\n",
        "    props = dict(boxstyle='round', facecolor='white', alpha=0.5)\n",
        "    \n",
        "    # Place a text box in upper left in axes coords\n",
        "    ax[counter].text(0.05, 0.95, textstr, transform=ax[counter].transAxes, fontsize=14,\n",
        "                    verticalalignment = \"top\", bbox=props)\n",
        "    \n",
        "    # Set axis limits and labels\n",
        "    ax[counter].set_title(f\"{key} Classifier\")\n",
        "    ax[counter].set_xlim(0,1)\n",
        "    ax[counter].set_xlabel(\"Score\")\n",
        "\n",
        "# Tight layout\n",
        "plt.tight_layout()\n",
        "\n",
        "# Save Figure\n",
        "plt.savefig(\"F1 score Distribution for each Classifier.png\", dpi = 1080)"
      ],
      "execution_count": 125,
      "outputs": [
        {
          "output_type": "display_data",
          "data": {
            "image/png": "[encoded data removed]",
            "text/plain": [
              "<Figure size 936x288 with 5 Axes>"
            ]
          },
          "metadata": {}
        }
      ]
    },
    {
      "cell_type": "code",
      "metadata": {
        "id": "sZ4p37VFcsZO"
      },
      "source": [
        "import pickle"
      ],
      "execution_count": 120,
      "outputs": []
    },
    {
      "cell_type": "code",
      "metadata": {
        "id": "4QXCjPk07NWR"
      },
      "source": [
        "filename = 'finalized_model.pkl'\n",
        "pickle.dump(classifiers[\"Stack\"], open(filename, 'wb'))"
      ],
      "execution_count": 121,
      "outputs": []
    },
    {
      "cell_type": "code",
      "metadata": {
        "id": "QQ91C9bP7n4T",
        "colab": {
          "base_uri": "https://localhost:8080/"
        },
        "outputId": "165ec1fd-2525-44d5-b6e8-298921924575"
      },
      "source": [
        "joblib.dump(scaler, \"std_scaler.pkl\")"
      ],
      "execution_count": 122,
      "outputs": [
        {
          "output_type": "execute_result",
          "data": {
            "text/plain": [
              "['std_scaler.pkl']"
            ]
          },
          "metadata": {},
          "execution_count": 122
        }
      ]
    },
    {
      "cell_type": "code",
      "metadata": {
        "id": "xq3DE96hufbv"
      },
      "source": [
        ""
      ],
      "execution_count": null,
      "outputs": []
    }
  ]
}